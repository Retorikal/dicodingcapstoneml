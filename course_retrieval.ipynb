{
 "cells": [
  {
   "cell_type": "code",
   "execution_count": 2,
   "metadata": {},
   "outputs": [
    {
     "name": "stderr",
     "output_type": "stream",
     "text": [
      "2022-05-31 13:11:37.568142: W tensorflow/stream_executor/platform/default/dso_loader.cc:64] Could not load dynamic library 'libcudart.so.11.0'; dlerror: libcudart.so.11.0: cannot open shared object file: No such file or directory\n",
      "2022-05-31 13:11:37.568183: I tensorflow/stream_executor/cuda/cudart_stub.cc:29] Ignore above cudart dlerror if you do not have a GPU set up on your machine.\n"
     ]
    }
   ],
   "source": [
    "import os\n",
    "import pprint\n",
    "import tempfile\n",
    "import itertools\n",
    "\n",
    "from typing import Dict, Text\n",
    "\n",
    "import numpy as np\n",
    "import pandas as pd\n",
    "import tensorflow as tf\n",
    "import tensorflow_recommenders as tfrs"
   ]
  },
  {
   "cell_type": "markdown",
   "metadata": {},
   "source": [
    "# Load both dataset and convert to tfds object"
   ]
  },
  {
   "cell_type": "code",
   "execution_count": 51,
   "metadata": {},
   "outputs": [
    {
     "data": {
      "text/html": [
       "<div>\n",
       "<style scoped>\n",
       "    .dataframe tbody tr th:only-of-type {\n",
       "        vertical-align: middle;\n",
       "    }\n",
       "\n",
       "    .dataframe tbody tr th {\n",
       "        vertical-align: top;\n",
       "    }\n",
       "\n",
       "    .dataframe thead th {\n",
       "        text-align: right;\n",
       "    }\n",
       "</style>\n",
       "<table border=\"1\" class=\"dataframe\">\n",
       "  <thead>\n",
       "    <tr style=\"text-align: right;\">\n",
       "      <th></th>\n",
       "      <th>course_name</th>\n",
       "    </tr>\n",
       "  </thead>\n",
       "  <tbody>\n",
       "    <tr>\n",
       "      <th>0</th>\n",
       "      <td>Belajar Fundamental Aplikasi Android</td>\n",
       "    </tr>\n",
       "    <tr>\n",
       "      <th>1</th>\n",
       "      <td>Belajar Membangun LINE Chatbot</td>\n",
       "    </tr>\n",
       "    <tr>\n",
       "      <th>2</th>\n",
       "      <td>Belajar Membuat Aplikasi Android untuk Pemula</td>\n",
       "    </tr>\n",
       "    <tr>\n",
       "      <th>3</th>\n",
       "      <td>Memulai Pemrograman Dengan Java</td>\n",
       "    </tr>\n",
       "    <tr>\n",
       "      <th>4</th>\n",
       "      <td>Memulai Pemrograman Dengan Kotlin</td>\n",
       "    </tr>\n",
       "  </tbody>\n",
       "</table>\n",
       "</div>"
      ],
      "text/plain": [
       "                                     course_name\n",
       "0           Belajar Fundamental Aplikasi Android\n",
       "1                 Belajar Membangun LINE Chatbot\n",
       "2  Belajar Membuat Aplikasi Android untuk Pemula\n",
       "3                Memulai Pemrograman Dengan Java\n",
       "4              Memulai Pemrograman Dengan Kotlin"
      ]
     },
     "execution_count": 51,
     "metadata": {},
     "output_type": "execute_result"
    }
   ],
   "source": [
    "df_courses = pd.read_csv('./courses.csv')\n",
    "df_courses.rename(columns={'name':'course_name'}, inplace=True)\n",
    "df_courses = df_courses[['course_name']]\n",
    "df_courses.head()"
   ]
  },
  {
   "cell_type": "code",
   "execution_count": 52,
   "metadata": {},
   "outputs": [
    {
     "name": "stdout",
     "output_type": "stream",
     "text": [
      "course_name        : Belajar Fundamental Aplikasi Android\n"
     ]
    },
    {
     "data": {
      "text/plain": [
       "<TensorSliceDataset element_spec={'course_name': TensorSpec(shape=(), dtype=tf.string, name=None)}>"
      ]
     },
     "execution_count": 52,
     "metadata": {},
     "output_type": "execute_result"
    }
   ],
   "source": [
    "# Convert courses to dictionary\n",
    "courses_dict = {\n",
    "  name: np.array(value) for name, value in df_courses.items()\n",
    "}\n",
    "\n",
    "def slices(features):\n",
    "  for i in itertools.count():\n",
    "    # For each feature take index `i`\n",
    "    example = {name:values[i] for name, values in features.items()}\n",
    "    yield example\n",
    "\n",
    "for example in slices(courses_dict):\n",
    "  for name, value in example.items():\n",
    "    print(f\"{name:19s}: {value}\")\n",
    "  break\n",
    "\n",
    "courses = tf.data.Dataset.from_tensor_slices(courses_dict)\n",
    "courses"
   ]
  },
  {
   "cell_type": "code",
   "execution_count": 53,
   "metadata": {},
   "outputs": [
    {
     "data": {
      "text/html": [
       "<div>\n",
       "<style scoped>\n",
       "    .dataframe tbody tr th:only-of-type {\n",
       "        vertical-align: middle;\n",
       "    }\n",
       "\n",
       "    .dataframe tbody tr th {\n",
       "        vertical-align: top;\n",
       "    }\n",
       "\n",
       "    .dataframe thead th {\n",
       "        text-align: right;\n",
       "    }\n",
       "</style>\n",
       "<table border=\"1\" class=\"dataframe\">\n",
       "  <thead>\n",
       "    <tr style=\"text-align: right;\">\n",
       "      <th></th>\n",
       "      <th>user_id</th>\n",
       "      <th>course_name</th>\n",
       "    </tr>\n",
       "  </thead>\n",
       "  <tbody>\n",
       "    <tr>\n",
       "      <th>0</th>\n",
       "      <td>378107</td>\n",
       "      <td>Menjadi Game Developer Expert</td>\n",
       "    </tr>\n",
       "    <tr>\n",
       "      <th>1</th>\n",
       "      <td>378107</td>\n",
       "      <td>Belajar Membuat Aplikasi Android untuk Pemula</td>\n",
       "    </tr>\n",
       "    <tr>\n",
       "      <th>2</th>\n",
       "      <td>378107</td>\n",
       "      <td>Belajar Membuat Game untuk Pemula</td>\n",
       "    </tr>\n",
       "    <tr>\n",
       "      <th>3</th>\n",
       "      <td>378107</td>\n",
       "      <td>Membangun Progressive Web Apps</td>\n",
       "    </tr>\n",
       "    <tr>\n",
       "      <th>4</th>\n",
       "      <td>378107</td>\n",
       "      <td>Belajar Dasar Pemrograman Web</td>\n",
       "    </tr>\n",
       "  </tbody>\n",
       "</table>\n",
       "</div>"
      ],
      "text/plain": [
       "  user_id                                    course_name\n",
       "0  378107                  Menjadi Game Developer Expert\n",
       "1  378107  Belajar Membuat Aplikasi Android untuk Pemula\n",
       "2  378107              Belajar Membuat Game untuk Pemula\n",
       "3  378107                 Membangun Progressive Web Apps\n",
       "4  378107                  Belajar Dasar Pemrograman Web"
      ]
     },
     "execution_count": 53,
     "metadata": {},
     "output_type": "execute_result"
    }
   ],
   "source": [
    "df_users = pd.read_csv('./users.csv')\n",
    "df_users.rename(columns={'id':'user_id'}, inplace=True)\n",
    "df_users = df_users.astype({'user_id': str}, errors='raise')\n",
    "df_users.head()"
   ]
  },
  {
   "cell_type": "code",
   "execution_count": 54,
   "metadata": {},
   "outputs": [
    {
     "name": "stdout",
     "output_type": "stream",
     "text": [
      "user_id            : 378107\n",
      "course_name        : Menjadi Game Developer Expert\n"
     ]
    },
    {
     "data": {
      "text/plain": [
       "<TensorSliceDataset element_spec={'user_id': TensorSpec(shape=(), dtype=tf.string, name=None), 'course_name': TensorSpec(shape=(), dtype=tf.string, name=None)}>"
      ]
     },
     "execution_count": 54,
     "metadata": {},
     "output_type": "execute_result"
    }
   ],
   "source": [
    "users_dict = {\n",
    "  name:np.array(value) for name, value in df_users.items()\n",
    "}\n",
    "\n",
    "for example in slices(users_dict):\n",
    "  for name, value in example.items():\n",
    "    print(f\"{name:19s}: {value}\")\n",
    "  break\n",
    "\n",
    "users = tf.data.Dataset.from_tensor_slices(users_dict)\n",
    "users\n"
   ]
  },
  {
   "cell_type": "code",
   "execution_count": 13,
   "metadata": {},
   "outputs": [
    {
     "name": "stdout",
     "output_type": "stream",
     "text": [
      "<class 'tensorflow.python.data.ops.dataset_ops.TensorSliceDataset'>\n",
      "<class 'tensorflow.python.data.ops.dataset_ops.TensorSliceDataset'>\n"
     ]
    }
   ],
   "source": [
    "print(type(courses))\n",
    "print(type(users))"
   ]
  },
  {
   "cell_type": "code",
   "execution_count": 14,
   "metadata": {},
   "outputs": [
    {
     "name": "stdout",
     "output_type": "stream",
     "text": [
      "4271\n",
      "48\n"
     ]
    }
   ],
   "source": [
    "print(len(users))\n",
    "print(len(courses))"
   ]
  },
  {
   "cell_type": "code",
   "execution_count": 55,
   "metadata": {},
   "outputs": [
    {
     "name": "stdout",
     "output_type": "stream",
     "text": [
      "<class 'tensorflow.python.data.ops.dataset_ops.MapDataset'>\n",
      "<class 'tensorflow.python.data.ops.dataset_ops.MapDataset'>\n"
     ]
    }
   ],
   "source": [
    "# Convert to map dataset\n",
    "# TODO: Kayaknya yang users gak merupbah apa apa? \n",
    "\n",
    "courses = courses.map(lambda x: x['course_name'])\n",
    "\n",
    "users = users.map(lambda x: {\n",
    "    'user_id': x['user_id'],\n",
    "    'course_name': x['course_name']\n",
    "})\n",
    "\n",
    "print(type(courses))\n",
    "print(type(users))"
   ]
  },
  {
   "cell_type": "code",
   "execution_count": 16,
   "metadata": {},
   "outputs": [
    {
     "name": "stdout",
     "output_type": "stream",
     "text": [
      "<TakeDataset element_spec={'user_id': TensorSpec(shape=(), dtype=tf.string, name=None), 'course_name': TensorSpec(shape=(), dtype=tf.string, name=None)}>\n",
      "<TakeDataset element_spec={'user_id': TensorSpec(shape=(), dtype=tf.string, name=None), 'course_name': TensorSpec(shape=(), dtype=tf.string, name=None)}>\n"
     ]
    }
   ],
   "source": [
    "tf.random.set_seed(1234)\n",
    "shuffled = users.shuffle(len(users), seed=1234, reshuffle_each_iteration=False)\n",
    "\n",
    "train = shuffled.take(4_000)\n",
    "test = shuffled.skip(4_000).take(271)\n",
    "\n",
    "print(train)\n",
    "print(test)"
   ]
  },
  {
   "cell_type": "code",
   "execution_count": 17,
   "metadata": {},
   "outputs": [],
   "source": [
    "course_names = courses.batch(25) # 25\n",
    "user_ids = users.batch(40_000).map(lambda x: x['user_id']) # 40_000"
   ]
  },
  {
   "cell_type": "code",
   "execution_count": 18,
   "metadata": {},
   "outputs": [
    {
     "data": {
      "text/plain": [
       "<BatchDataset element_spec=TensorSpec(shape=(None,), dtype=tf.string, name=None)>"
      ]
     },
     "execution_count": 18,
     "metadata": {},
     "output_type": "execute_result"
    }
   ],
   "source": [
    "course_names"
   ]
  },
  {
   "cell_type": "code",
   "execution_count": 19,
   "metadata": {},
   "outputs": [
    {
     "data": {
      "text/plain": [
       "array([b'Architecting on AWS (Membangun Arsitektur Cloud di AWS)',\n",
       "       b'Belajar Dasar Git dengan GitHub', b'Belajar Dasar Google Cloud',\n",
       "       b'Belajar Dasar Pemrograman JavaScript',\n",
       "       b'Belajar Dasar Pemrograman Web', b'Belajar Dasar UX Design',\n",
       "       b'Belajar Dasar Visualisasi Data',\n",
       "       b'Belajar Dasar-Dasar Azure Cloud',\n",
       "       b'Belajar Fundamental Aplikasi Android',\n",
       "       b'Belajar Fundamental Aplikasi Back-End'], dtype=object)"
      ]
     },
     "execution_count": 19,
     "metadata": {},
     "output_type": "execute_result"
    }
   ],
   "source": [
    "# course_names = courses.batch(25) # 25\n",
    "# user_ids = users.batch(40_000).map(lambda x: x['user_id']) # 40_000\n",
    "\n",
    "unique_course_names = np.unique(np.concatenate(list(course_names)))\n",
    "unique_user_ids = np.unique(np.concatenate(list(user_ids)))\n",
    "\n",
    "unique_course_names[:10]"
   ]
  },
  {
   "cell_type": "code",
   "execution_count": 20,
   "metadata": {},
   "outputs": [
    {
     "name": "stdout",
     "output_type": "stream",
     "text": [
      "635\n",
      "48\n"
     ]
    },
    {
     "data": {
      "text/plain": [
       "array([b'378101', b'378104', b'378107', b'378110', b'378113', b'378116',\n",
       "       b'378119', b'378122', b'378125', b'378128'], dtype=object)"
      ]
     },
     "execution_count": 20,
     "metadata": {},
     "output_type": "execute_result"
    }
   ],
   "source": [
    "print(len(unique_user_ids))\n",
    "print(len(unique_course_names))\n",
    "unique_user_ids[:10]"
   ]
  },
  {
   "cell_type": "code",
   "execution_count": 56,
   "metadata": {},
   "outputs": [],
   "source": [
    "embedding_dimension = 32\n",
    "\n",
    "#https://www.tensorflow.org/recommenders/examples/multitask/\n",
    "\n",
    "user_model = tf.keras.Sequential([\n",
    "  tf.keras.layers.StringLookup(vocabulary=unique_user_ids, mask_token=None),\n",
    "  # We add an additional embedding to account for unknown tokens.\n",
    "  tf.keras.layers.Embedding(len(unique_user_ids) + 1, embedding_dimension)\n",
    "])\n",
    "\n",
    "course_model = tf.keras.Sequential([\n",
    "  tf.keras.layers.StringLookup(vocabulary=unique_course_names, mask_token=None),\n",
    "  tf.keras.layers.Embedding(len(unique_course_names) + 1, embedding_dimension),\n",
    "  # tf.keras.layers.GRU(embedding_dimension)\n",
    "])\n",
    "\n",
    "task = tfrs.tasks.Retrieval(\n",
    "  metrics=tfrs.metrics.FactorizedTopK(\n",
    "    candidates=courses.batch(16).map(course_model)\n",
    "  )\n",
    ")"
   ]
  },
  {
   "cell_type": "code",
   "execution_count": 24,
   "metadata": {},
   "outputs": [],
   "source": [
    "class Model(tfrs.Model):\n",
    "  def __init__(self, user_model, course_model):\n",
    "    super().__init__()\n",
    "    self.course_model: tf.keras.Model = course_model\n",
    "    self.user_model: tf.keras.Model = user_model\n",
    "    self.task: tf.keras.layers.Layer = task\n",
    "\n",
    "  def compute_loss(self, features: Dict[Text, tf.Tensor], training=False) -> tf.Tensor:\n",
    "    # We pick out the user features and pass them into the user model.\n",
    "    user_embeddings = self.user_model(features[\"user_id\"])\n",
    "\n",
    "    # And pick out the course features and pass them into the course model,\n",
    "    # getting embeddings back.\n",
    "    positive_course_embeddings = self.course_model(features[\"course_name\"])\n",
    "\n",
    "    # The task computes the loss and the metrics.\n",
    "    return self.task(user_embeddings, positive_course_embeddings)"
   ]
  },
  {
   "cell_type": "code",
   "execution_count": 29,
   "metadata": {},
   "outputs": [],
   "source": [
    "model = Model(user_model, course_model)\n",
    "model.compile(optimizer=tf.keras.optimizers.Adagrad(learning_rate=0.1))\n",
    "\n",
    "cached_train = train.shuffle(len(users)).batch(400).cache()\n",
    "cached_test = test.batch(40).cache()\n",
    "\n",
    "model.fit(cached_train, epochs=3)"
   ]
  },
  {
   "cell_type": "code",
   "execution_count": 38,
   "metadata": {},
   "outputs": [
    {
     "name": "stdout",
     "output_type": "stream",
     "text": [
      "7/7 [==============================] - 1s 80ms/step - factorized_top_k/top_1_categorical_accuracy: 0.0443 - factorized_top_k/top_5_categorical_accuracy: 0.3173 - factorized_top_k/top_10_categorical_accuracy: 0.6236 - factorized_top_k/top_50_categorical_accuracy: 1.0000 - factorized_top_k/top_100_categorical_accuracy: 1.0000 - loss: 130.0931 - regularization_loss: 0.0000e+00 - total_loss: 130.0931\n"
     ]
    },
    {
     "data": {
      "text/plain": [
       "{'factorized_top_k/top_1_categorical_accuracy': 0.04428044334053993,\n",
       " 'factorized_top_k/top_5_categorical_accuracy': 0.31734317541122437,\n",
       " 'factorized_top_k/top_10_categorical_accuracy': 0.6236162185668945,\n",
       " 'factorized_top_k/top_50_categorical_accuracy': 1.0,\n",
       " 'factorized_top_k/top_100_categorical_accuracy': 1.0,\n",
       " 'loss': 110.62801361083984,\n",
       " 'regularization_loss': 0,\n",
       " 'total_loss': 110.62801361083984}"
      ]
     },
     "execution_count": 38,
     "metadata": {},
     "output_type": "execute_result"
    }
   ],
   "source": [
    "model.evaluate(cached_test, return_dict=True)"
   ]
  },
  {
   "cell_type": "markdown",
   "metadata": {},
   "source": [
    "# Making predicitons\n"
   ]
  },
  {
   "cell_type": "code",
   "execution_count": 46,
   "metadata": {},
   "outputs": [
    {
     "data": {
      "text/plain": [
       "<tensorflow_recommenders.layers.factorized_top_k.BruteForce at 0x7fd436047040>"
      ]
     },
     "execution_count": 46,
     "metadata": {},
     "output_type": "execute_result"
    }
   ],
   "source": [
    "# Create a model that takes in raw query features, and\n",
    "index = tfrs.layers.factorized_top_k.BruteForce(model.user_model)\n",
    "\n",
    "# recommends courses out of the entire courses dataset.\n",
    "index.index_from_dataset(\n",
    "  tf.data.Dataset.zip((courses.batch(10), courses.batch(10).map(model.course_model)))\n",
    ")"
   ]
  },
  {
   "cell_type": "code",
   "execution_count": 62,
   "metadata": {},
   "outputs": [
    {
     "name": "stdout",
     "output_type": "stream",
     "text": [
      "1/1 [==============================] - 0s 29ms/step\n",
      "[[-0.29238877  0.1896909   0.24672015 -0.18970405  0.31245732  0.48803166\n",
      "   0.19648258 -0.63713247  0.32725298 -0.12039973  0.18609333  0.13593087\n",
      "   0.57613707  0.01277212 -0.07386976  0.0501121  -0.10746235 -0.1267919\n",
      "  -0.0871425   0.02395872  0.53917813  0.0156215   0.16900739 -0.21539979\n",
      "  -0.38051724 -0.3160193   0.57798487 -0.05177205  0.09948194 -0.01651384\n",
      "  -0.08244672 -0.44000137]]\n",
      "1/1 [==============================] - 0s 25ms/step\n",
      "[[-1.317824    0.1821487   0.11608754  0.8123598   1.0295552   0.75508887\n",
      "  -0.29398802 -0.46622536  0.34544238  0.4443783   0.11546618 -0.4720895\n",
      "   0.7208403  -0.6527897   0.5723107  -0.35173348 -0.2510147  -0.6380948\n",
      "  -0.09940079  0.7515651   0.5717442   0.5541475  -0.5287965  -0.866028\n",
      "  -0.815331    0.06582449  0.555884    0.90853626 -0.102878    0.5781376\n",
      "  -0.02559072 -1.4059564 ]]\n"
     ]
    }
   ],
   "source": [
    "inputdata = np.array([str(378101)])\n",
    "print(model.user_model.predict(inputdata))\n",
    "print(model.course_model.predict(np.array([\"Belajar Fundamental Aplikasi Android\"])))\n"
   ]
  },
  {
   "cell_type": "code",
   "execution_count": null,
   "metadata": {},
   "outputs": [],
   "source": [
    "user_id = 378101\n",
    "# Get recommendations.\n",
    "_, course_name = index(np.array([str(user_id)]))\n",
    "print(f\"Recommendations for user {user_id}: {course_name[0, :3]}\".format(user_id))"
   ]
  },
  {
   "cell_type": "markdown",
   "metadata": {},
   "source": []
  },
  {
   "cell_type": "code",
   "execution_count": null,
   "metadata": {},
   "outputs": [
    {
     "name": "stdout",
     "output_type": "stream",
     "text": [
      "Recommendations for user 378104: [b'Belajar Membuat Aplikasi Android untuk Pemula'\n",
      " b'Belajar Fundamental Aplikasi Android' b'Belajar Dasar UX Design']\n"
     ]
    }
   ],
   "source": [
    "user_id = 378104\n",
    "\n",
    "_, course_name = index(np.array([str(user_id)]))\n",
    "print(f\"Recommendations for user {user_id}: {course_name[0, :3]}\".format(user_id))"
   ]
  },
  {
   "cell_type": "code",
   "execution_count": null,
   "metadata": {},
   "outputs": [
    {
     "name": "stdout",
     "output_type": "stream",
     "text": [
      "Recommendations for user 378107: [b'Belajar Membuat Aplikasi Back-End untuk Pemula'\n",
      " b'Belajar Dasar Pemrograman JavaScript'\n",
      " b'Belajar Dasar Git dengan GitHub']\n"
     ]
    }
   ],
   "source": [
    "user_id = 378107\n",
    "# Get recommendations.\n",
    "_, course_name = index(np.array([str(user_id)]))\n",
    "print(f\"Recommendations for user {user_id}: {course_name[0, :3]}\".format(user_id))"
   ]
  },
  {
   "cell_type": "code",
   "execution_count": null,
   "metadata": {},
   "outputs": [
    {
     "name": "stdout",
     "output_type": "stream",
     "text": [
      "Recommendations for user 378110: [b'Memulai Pemrograman Dengan Java'\n",
      " b'Belajar Fundamental Aplikasi Android'\n",
      " b'Menjadi Android Developer Expert']\n"
     ]
    }
   ],
   "source": [
    "user_id = 378110\n",
    "# Get recommendations.\n",
    "_, course_name = index(np.array([str(user_id)]))\n",
    "print(f\"Recommendations for user {user_id}: {course_name[0, :3]}\".format(user_id))"
   ]
  },
  {
   "cell_type": "code",
   "execution_count": null,
   "metadata": {},
   "outputs": [
    {
     "name": "stdout",
     "output_type": "stream",
     "text": [
      "Recommendations for user 378113: [b'Belajar Membuat Aplikasi Android untuk Pemula'\n",
      " b'Belajar Fundamental Aplikasi Android' b'Belajar Dasar UX Design']\n"
     ]
    }
   ],
   "source": [
    "user_id = 378113\n",
    "# Get recommendations.\n",
    "_, course_name = index(np.array([str(user_id)]))\n",
    "print(f\"Recommendations for user {user_id}: {course_name[0, :3]}\".format(user_id))"
   ]
  },
  {
   "cell_type": "code",
   "execution_count": null,
   "metadata": {},
   "outputs": [
    {
     "data": {
      "text/plain": [
       "array([b'378101', b'378104', b'378107', b'378110', b'378113', b'378116',\n",
       "       b'378119', b'378122', b'378125', b'378128'], dtype=object)"
      ]
     },
     "execution_count": 41,
     "metadata": {},
     "output_type": "execute_result"
    }
   ],
   "source": [
    "unique_user_ids[:10]"
   ]
  },
  {
   "cell_type": "code",
   "execution_count": null,
   "metadata": {},
   "outputs": [
    {
     "data": {
      "text/plain": [
       "array([b'380981', b'380990', b'380993', b'381005', b'381011', b'381014',\n",
       "       b'381023', b'381026', b'381044', b'381047', b'381056', b'381059',\n",
       "       b'381062', b'381068', b'381071', b'381077', b'381080', b'381083',\n",
       "       b'381086', b'381089', b'381092', b'381095', b'381098', b'381101',\n",
       "       b'381104', b'381107', b'381110', b'381113', b'381116', b'381125',\n",
       "       b'381128', b'381137', b'381140', b'381143', b'381146'],\n",
       "      dtype=object)"
      ]
     },
     "execution_count": 48,
     "metadata": {},
     "output_type": "execute_result"
    }
   ],
   "source": [
    "unique_user_ids[600:]"
   ]
  },
  {
   "cell_type": "code",
   "execution_count": null,
   "metadata": {},
   "outputs": [
    {
     "name": "stdout",
     "output_type": "stream",
     "text": [
      "Recommendations for user 381146: [b'Menjadi Android Developer Expert'\n",
      " b'Belajar Fundamental Aplikasi Flutter'\n",
      " b'Menjadi Front-End Web Developer Expert']\n"
     ]
    }
   ],
   "source": [
    "user_id = 381146\n",
    "# Get recommendations.\n",
    "_, course_name = index(np.array([str(user_id)]))\n",
    "print(f\"Recommendations for user {user_id}: {course_name[0, :3]}\".format(user_id))"
   ]
  },
  {
   "cell_type": "code",
   "execution_count": null,
   "metadata": {},
   "outputs": [
    {
     "name": "stdout",
     "output_type": "stream",
     "text": [
      "Recommendations for user 381147: [b'Menjadi Android Developer Expert' b'Belajar Membangun LINE Chatbot'\n",
      " b'Belajar Pengembangan Machine Learning']\n"
     ]
    }
   ],
   "source": [
    "user_id = 381147\n",
    "# Get recommendations.\n",
    "_, course_name = index(np.array([str(user_id)]))\n",
    "print(f\"Recommendations for user {user_id}: {course_name[0, :3]}\".format(user_id))"
   ]
  },
  {
   "cell_type": "code",
   "execution_count": null,
   "metadata": {},
   "outputs": [
    {
     "name": "stdout",
     "output_type": "stream",
     "text": [
      "Recommendations for user 381150: [b'Menjadi Android Developer Expert' b'Belajar Membangun LINE Chatbot'\n",
      " b'Belajar Pengembangan Machine Learning']\n"
     ]
    }
   ],
   "source": [
    "user_id = 381150\n",
    "# Get recommendations.\n",
    "_, course_name = index(np.array([str(user_id)]))\n",
    "print(f\"Recommendations for user {user_id}: {course_name[0, :3]}\".format(user_id))"
   ]
  },
  {
   "cell_type": "code",
   "execution_count": null,
   "metadata": {},
   "outputs": [
    {
     "name": "stdout",
     "output_type": "stream",
     "text": [
      "Recommendations for user 381152: [b'Menjadi Android Developer Expert' b'Belajar Membangun LINE Chatbot'\n",
      " b'Belajar Pengembangan Machine Learning']\n"
     ]
    }
   ],
   "source": [
    "user_id = 381152\n",
    "# Get recommendations.\n",
    "_, course_name = index(np.array([str(user_id)]))\n",
    "print(f\"Recommendations for user {user_id}: {course_name[0, :3]}\".format(user_id))"
   ]
  },
  {
   "cell_type": "code",
   "execution_count": null,
   "metadata": {},
   "outputs": [
    {
     "name": "stdout",
     "output_type": "stream",
     "text": [
      "Recommendations for user 381155: [b'Menjadi Android Developer Expert' b'Belajar Membangun LINE Chatbot'\n",
      " b'Belajar Pengembangan Machine Learning']\n"
     ]
    }
   ],
   "source": [
    "user_id = 381155\n",
    "# Get recommendations.\n",
    "_, course_name = index(np.array([str(user_id)]))\n",
    "print(f\"Recommendations for user {user_id}: {course_name[0, :3]}\".format(user_id))"
   ]
  }
 ],
 "metadata": {
  "interpreter": {
   "hash": "916dbcbb3f70747c44a77c7bcd40155683ae19c65e1c03b4aa3499c5328201f1"
  },
  "kernelspec": {
   "display_name": "Python 3 (ipykernel)",
   "language": "python",
   "name": "python3"
  }
 },
 "nbformat": 4,
 "nbformat_minor": 2
}
