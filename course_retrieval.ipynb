{
 "cells": [
  {
   "cell_type": "code",
   "execution_count": 2,
   "metadata": {},
   "outputs": [],
   "source": [
    "import os\n",
    "import pprint\n",
    "import tempfile\n",
    "import itertools\n",
    "\n",
    "from typing import Dict, Text\n",
    "\n",
    "import numpy as np\n",
    "import pandas as pd\n",
    "import tensorflow as tf\n",
    "import tensorflow_datasets as tfds\n",
    "import tensorflow_recommenders as tfrs"
   ]
  },
  {
   "cell_type": "code",
   "execution_count": 3,
   "metadata": {},
   "outputs": [
    {
     "data": {
      "text/html": [
       "<div>\n",
       "<style scoped>\n",
       "    .dataframe tbody tr th:only-of-type {\n",
       "        vertical-align: middle;\n",
       "    }\n",
       "\n",
       "    .dataframe tbody tr th {\n",
       "        vertical-align: top;\n",
       "    }\n",
       "\n",
       "    .dataframe thead th {\n",
       "        text-align: right;\n",
       "    }\n",
       "</style>\n",
       "<table border=\"1\" class=\"dataframe\">\n",
       "  <thead>\n",
       "    <tr style=\"text-align: right;\">\n",
       "      <th></th>\n",
       "      <th>course_name</th>\n",
       "    </tr>\n",
       "  </thead>\n",
       "  <tbody>\n",
       "    <tr>\n",
       "      <th>0</th>\n",
       "      <td>Belajar Fundamental Aplikasi Android</td>\n",
       "    </tr>\n",
       "    <tr>\n",
       "      <th>1</th>\n",
       "      <td>Belajar Membangun LINE Chatbot</td>\n",
       "    </tr>\n",
       "    <tr>\n",
       "      <th>2</th>\n",
       "      <td>Belajar Membuat Aplikasi Android untuk Pemula</td>\n",
       "    </tr>\n",
       "    <tr>\n",
       "      <th>3</th>\n",
       "      <td>Memulai Pemrograman Dengan Java</td>\n",
       "    </tr>\n",
       "    <tr>\n",
       "      <th>4</th>\n",
       "      <td>Memulai Pemrograman Dengan Kotlin</td>\n",
       "    </tr>\n",
       "  </tbody>\n",
       "</table>\n",
       "</div>"
      ],
      "text/plain": [
       "                                     course_name\n",
       "0           Belajar Fundamental Aplikasi Android\n",
       "1                 Belajar Membangun LINE Chatbot\n",
       "2  Belajar Membuat Aplikasi Android untuk Pemula\n",
       "3                Memulai Pemrograman Dengan Java\n",
       "4              Memulai Pemrograman Dengan Kotlin"
      ]
     },
     "execution_count": 3,
     "metadata": {},
     "output_type": "execute_result"
    }
   ],
   "source": [
    "df_courses = pd.read_csv('/home/moseshubert/Documents/bangkit_project/dataset/course_recommender_dataset/courses.csv')\n",
    "df_courses.rename(columns={'name':'course_name'}, inplace=True)\n",
    "df_courses = df_courses[['course_name']]\n",
    "df_courses.head()"
   ]
  },
  {
   "cell_type": "code",
   "execution_count": 4,
   "metadata": {},
   "outputs": [],
   "source": [
    "courses_dict = {\n",
    "    name:np.array(value)\n",
    "    for name, value in df_courses.items()\n",
    "}"
   ]
  },
  {
   "cell_type": "code",
   "execution_count": 5,
   "metadata": {},
   "outputs": [],
   "source": [
    "def slices(features):\n",
    "  for i in itertools.count():\n",
    "    # For each feature take index `i`\n",
    "    example = {name:values[i] for name, values in features.items()}\n",
    "    yield example"
   ]
  },
  {
   "cell_type": "code",
   "execution_count": 6,
   "metadata": {},
   "outputs": [
    {
     "name": "stdout",
     "output_type": "stream",
     "text": [
      "course_name        : Belajar Fundamental Aplikasi Android\n"
     ]
    }
   ],
   "source": [
    "for example in slices(courses_dict):\n",
    "  for name, value in example.items():\n",
    "    print(f\"{name:19s}: {value}\")\n",
    "  break"
   ]
  },
  {
   "cell_type": "code",
   "execution_count": 7,
   "metadata": {},
   "outputs": [],
   "source": [
    "courses = tf.data.Dataset.from_tensor_slices(courses_dict)"
   ]
  },
  {
   "cell_type": "code",
   "execution_count": 8,
   "metadata": {},
   "outputs": [
    {
     "data": {
      "text/plain": [
       "<TensorSliceDataset element_spec={'course_name': TensorSpec(shape=(), dtype=tf.string, name=None)}>"
      ]
     },
     "execution_count": 8,
     "metadata": {},
     "output_type": "execute_result"
    }
   ],
   "source": [
    "courses"
   ]
  },
  {
   "cell_type": "code",
   "execution_count": 9,
   "metadata": {},
   "outputs": [
    {
     "data": {
      "text/html": [
       "<div>\n",
       "<style scoped>\n",
       "    .dataframe tbody tr th:only-of-type {\n",
       "        vertical-align: middle;\n",
       "    }\n",
       "\n",
       "    .dataframe tbody tr th {\n",
       "        vertical-align: top;\n",
       "    }\n",
       "\n",
       "    .dataframe thead th {\n",
       "        text-align: right;\n",
       "    }\n",
       "</style>\n",
       "<table border=\"1\" class=\"dataframe\">\n",
       "  <thead>\n",
       "    <tr style=\"text-align: right;\">\n",
       "      <th></th>\n",
       "      <th>user_id</th>\n",
       "      <th>course_name</th>\n",
       "    </tr>\n",
       "  </thead>\n",
       "  <tbody>\n",
       "    <tr>\n",
       "      <th>0</th>\n",
       "      <td>378107</td>\n",
       "      <td>Menjadi Game Developer Expert</td>\n",
       "    </tr>\n",
       "    <tr>\n",
       "      <th>1</th>\n",
       "      <td>378107</td>\n",
       "      <td>Belajar Membuat Aplikasi Android untuk Pemula</td>\n",
       "    </tr>\n",
       "    <tr>\n",
       "      <th>2</th>\n",
       "      <td>378107</td>\n",
       "      <td>Belajar Membuat Game untuk Pemula</td>\n",
       "    </tr>\n",
       "    <tr>\n",
       "      <th>3</th>\n",
       "      <td>378107</td>\n",
       "      <td>Membangun Progressive Web Apps</td>\n",
       "    </tr>\n",
       "    <tr>\n",
       "      <th>4</th>\n",
       "      <td>378107</td>\n",
       "      <td>Belajar Dasar Pemrograman Web</td>\n",
       "    </tr>\n",
       "  </tbody>\n",
       "</table>\n",
       "</div>"
      ],
      "text/plain": [
       "  user_id                                    course_name\n",
       "0  378107                  Menjadi Game Developer Expert\n",
       "1  378107  Belajar Membuat Aplikasi Android untuk Pemula\n",
       "2  378107              Belajar Membuat Game untuk Pemula\n",
       "3  378107                 Membangun Progressive Web Apps\n",
       "4  378107                  Belajar Dasar Pemrograman Web"
      ]
     },
     "execution_count": 9,
     "metadata": {},
     "output_type": "execute_result"
    }
   ],
   "source": [
    "df_users = pd.read_csv('/home/moseshubert/Documents/bangkit_project/dataset/course_recommender_dataset/users.csv')\n",
    "df_users.rename(columns={'id':'user_id'}, inplace=True)\n",
    "df_users = df_users.astype({'user_id': str}, errors='raise')\n",
    "df_users.head()"
   ]
  },
  {
   "cell_type": "code",
   "execution_count": 10,
   "metadata": {},
   "outputs": [
    {
     "data": {
      "text/plain": [
       "user_id        object\n",
       "course_name    object\n",
       "dtype: object"
      ]
     },
     "execution_count": 10,
     "metadata": {},
     "output_type": "execute_result"
    }
   ],
   "source": [
    "df_users.dtypes"
   ]
  },
  {
   "cell_type": "code",
   "execution_count": 11,
   "metadata": {},
   "outputs": [],
   "source": [
    "users_dict = {\n",
    "    name:np.array(value)\n",
    "    for name, value in df_users.items()\n",
    "}"
   ]
  },
  {
   "cell_type": "code",
   "execution_count": 12,
   "metadata": {},
   "outputs": [
    {
     "name": "stdout",
     "output_type": "stream",
     "text": [
      "user_id            : 378107\n",
      "course_name        : Menjadi Game Developer Expert\n"
     ]
    }
   ],
   "source": [
    "for example in slices(users_dict):\n",
    "  for name, value in example.items():\n",
    "    print(f\"{name:19s}: {value}\")\n",
    "  break"
   ]
  },
  {
   "cell_type": "code",
   "execution_count": 13,
   "metadata": {},
   "outputs": [],
   "source": [
    "users = tf.data.Dataset.from_tensor_slices(users_dict)"
   ]
  },
  {
   "cell_type": "code",
   "execution_count": 14,
   "metadata": {},
   "outputs": [
    {
     "data": {
      "text/plain": [
       "<TensorSliceDataset element_spec={'user_id': TensorSpec(shape=(), dtype=tf.string, name=None), 'course_name': TensorSpec(shape=(), dtype=tf.string, name=None)}>"
      ]
     },
     "execution_count": 14,
     "metadata": {},
     "output_type": "execute_result"
    }
   ],
   "source": [
    "users"
   ]
  },
  {
   "cell_type": "code",
   "execution_count": 15,
   "metadata": {},
   "outputs": [
    {
     "name": "stdout",
     "output_type": "stream",
     "text": [
      "<class 'tensorflow.python.data.ops.dataset_ops.TensorSliceDataset'>\n",
      "<class 'tensorflow.python.data.ops.dataset_ops.TensorSliceDataset'>\n"
     ]
    }
   ],
   "source": [
    "print(type(courses))\n",
    "print(type(users))"
   ]
  },
  {
   "cell_type": "code",
   "execution_count": 16,
   "metadata": {},
   "outputs": [
    {
     "name": "stdout",
     "output_type": "stream",
     "text": [
      "4271\n",
      "48\n"
     ]
    }
   ],
   "source": [
    "print(len(users))\n",
    "print(len(courses))"
   ]
  },
  {
   "cell_type": "code",
   "execution_count": 17,
   "metadata": {},
   "outputs": [],
   "source": [
    "courses = courses.map(lambda x: x['course_name'])\n",
    "\n",
    "users = users.map(lambda x: {\n",
    "    'user_id': x['user_id'],\n",
    "    'course_name': x['course_name']\n",
    "})"
   ]
  },
  {
   "cell_type": "code",
   "execution_count": 18,
   "metadata": {},
   "outputs": [
    {
     "data": {
      "text/plain": [
       "<MapDataset element_spec=TensorSpec(shape=(), dtype=tf.string, name=None)>"
      ]
     },
     "execution_count": 18,
     "metadata": {},
     "output_type": "execute_result"
    }
   ],
   "source": [
    "courses"
   ]
  },
  {
   "cell_type": "code",
   "execution_count": 19,
   "metadata": {},
   "outputs": [],
   "source": [
    "tf.random.set_seed(1234)\n",
    "shuffled = users.shuffle(len(users), seed=1234, reshuffle_each_iteration=False)\n",
    "\n",
    "train = shuffled.take(4_000)\n",
    "test = shuffled.skip(4_000).take(271)"
   ]
  },
  {
   "cell_type": "code",
   "execution_count": 20,
   "metadata": {},
   "outputs": [
    {
     "data": {
      "text/plain": [
       "<TakeDataset element_spec={'user_id': TensorSpec(shape=(), dtype=tf.string, name=None), 'course_name': TensorSpec(shape=(), dtype=tf.string, name=None)}>"
      ]
     },
     "execution_count": 20,
     "metadata": {},
     "output_type": "execute_result"
    }
   ],
   "source": [
    "train"
   ]
  },
  {
   "cell_type": "code",
   "execution_count": 21,
   "metadata": {},
   "outputs": [],
   "source": [
    "course_names = courses.batch(25) # 25\n",
    "user_ids = users.batch(40_000).map(lambda x: x['user_id']) # 40_000"
   ]
  },
  {
   "cell_type": "code",
   "execution_count": 22,
   "metadata": {},
   "outputs": [
    {
     "data": {
      "text/plain": [
       "<BatchDataset element_spec=TensorSpec(shape=(None,), dtype=tf.string, name=None)>"
      ]
     },
     "execution_count": 22,
     "metadata": {},
     "output_type": "execute_result"
    }
   ],
   "source": [
    "course_names"
   ]
  },
  {
   "cell_type": "code",
   "execution_count": 23,
   "metadata": {},
   "outputs": [
    {
     "data": {
      "text/plain": [
       "array([b'Architecting on AWS (Membangun Arsitektur Cloud di AWS)',\n",
       "       b'Belajar Dasar Git dengan GitHub', b'Belajar Dasar Google Cloud',\n",
       "       b'Belajar Dasar Pemrograman JavaScript',\n",
       "       b'Belajar Dasar Pemrograman Web', b'Belajar Dasar UX Design',\n",
       "       b'Belajar Dasar Visualisasi Data',\n",
       "       b'Belajar Dasar-Dasar Azure Cloud',\n",
       "       b'Belajar Fundamental Aplikasi Android',\n",
       "       b'Belajar Fundamental Aplikasi Back-End'], dtype=object)"
      ]
     },
     "execution_count": 23,
     "metadata": {},
     "output_type": "execute_result"
    }
   ],
   "source": [
    "# course_names = courses.batch(25) # 25\n",
    "# user_ids = users.batch(40_000).map(lambda x: x['user_id']) # 40_000\n",
    "\n",
    "unique_course_names = np.unique(np.concatenate(list(course_names)))\n",
    "unique_user_ids = np.unique(np.concatenate(list(user_ids)))\n",
    "\n",
    "unique_course_names[:10]"
   ]
  },
  {
   "cell_type": "code",
   "execution_count": 24,
   "metadata": {},
   "outputs": [
    {
     "data": {
      "text/plain": [
       "array([b'378101', b'378104', b'378107', b'378110', b'378113', b'378116',\n",
       "       b'378119', b'378122', b'378125', b'378128'], dtype=object)"
      ]
     },
     "execution_count": 24,
     "metadata": {},
     "output_type": "execute_result"
    }
   ],
   "source": [
    "unique_user_ids[:10]"
   ]
  },
  {
   "cell_type": "code",
   "execution_count": 25,
   "metadata": {},
   "outputs": [
    {
     "name": "stdout",
     "output_type": "stream",
     "text": [
      "635\n",
      "48\n"
     ]
    }
   ],
   "source": [
    "print(len(unique_user_ids))\n",
    "print(len(unique_course_names))"
   ]
  },
  {
   "cell_type": "code",
   "execution_count": 26,
   "metadata": {},
   "outputs": [],
   "source": [
    "embedding_dimension = 32"
   ]
  },
  {
   "cell_type": "code",
   "execution_count": 27,
   "metadata": {},
   "outputs": [],
   "source": [
    "user_model = tf.keras.Sequential([\n",
    "  tf.keras.layers.StringLookup(vocabulary=unique_user_ids, mask_token=None),\n",
    "  # We add an additional embedding to account for unknown tokens.\n",
    "  tf.keras.layers.Embedding(len(unique_user_ids) + 1, embedding_dimension)\n",
    "])"
   ]
  },
  {
   "cell_type": "code",
   "execution_count": 28,
   "metadata": {},
   "outputs": [],
   "source": [
    "course_model = tf.keras.Sequential([\n",
    "  tf.keras.layers.StringLookup(\n",
    "      vocabulary=unique_course_names, mask_token=None),\n",
    "  tf.keras.layers.Embedding(len(unique_course_names) + 1, embedding_dimension),\n",
    "  # tf.keras.layers.GRU(embedding_dimension)\n",
    "])"
   ]
  },
  {
   "cell_type": "code",
   "execution_count": 29,
   "metadata": {},
   "outputs": [],
   "source": [
    "metrics = tfrs.metrics.FactorizedTopK(\n",
    "  candidates=courses.batch(16).map(course_model)\n",
    ")"
   ]
  },
  {
   "cell_type": "code",
   "execution_count": 30,
   "metadata": {},
   "outputs": [],
   "source": [
    "task = tfrs.tasks.Retrieval(\n",
    "  metrics=metrics\n",
    ")"
   ]
  },
  {
   "cell_type": "code",
   "execution_count": 31,
   "metadata": {},
   "outputs": [],
   "source": [
    "class Model(tfrs.Model):\n",
    "\n",
    "  def __init__(self, user_model, course_model):\n",
    "    super().__init__()\n",
    "    self.course_model: tf.keras.Model = course_model\n",
    "    self.user_model: tf.keras.Model = user_model\n",
    "    self.task: tf.keras.layers.Layer = task\n",
    "\n",
    "  def compute_loss(self, features: Dict[Text, tf.Tensor], training=False) -> tf.Tensor:\n",
    "    # We pick out the user features and pass them into the user model.\n",
    "    user_embeddings = self.user_model(features[\"user_id\"])\n",
    "    # And pick out the course features and pass them into the course model,\n",
    "    # getting embeddings back.\n",
    "    positive_course_embeddings = self.course_model(features[\"course_name\"])\n",
    "\n",
    "    # The task computes the loss and the metrics.\n",
    "    return self.task(user_embeddings, positive_course_embeddings)"
   ]
  },
  {
   "cell_type": "code",
   "execution_count": 32,
   "metadata": {},
   "outputs": [],
   "source": [
    "model = Model(user_model, course_model)\n",
    "model.compile(optimizer=tf.keras.optimizers.Adagrad(learning_rate=0.1))"
   ]
  },
  {
   "cell_type": "code",
   "execution_count": 33,
   "metadata": {},
   "outputs": [],
   "source": [
    "cached_train = train.shuffle(len(users)).batch(400).cache()\n",
    "cached_test = test.batch(40).cache()"
   ]
  },
  {
   "cell_type": "code",
   "execution_count": 34,
   "metadata": {},
   "outputs": [
    {
     "name": "stdout",
     "output_type": "stream",
     "text": [
      "Epoch 1/3\n",
      "10/10 [==============================] - 2s 41ms/step - factorized_top_k/top_1_categorical_accuracy: 0.0380 - factorized_top_k/top_5_categorical_accuracy: 0.2222 - factorized_top_k/top_10_categorical_accuracy: 0.3920 - factorized_top_k/top_50_categorical_accuracy: 1.0000 - factorized_top_k/top_100_categorical_accuracy: 1.0000 - loss: 2352.7679 - regularization_loss: 0.0000e+00 - total_loss: 2352.7679\n",
      "Epoch 2/3\n",
      "10/10 [==============================] - 0s 43ms/step - factorized_top_k/top_1_categorical_accuracy: 0.0587 - factorized_top_k/top_5_categorical_accuracy: 0.3957 - factorized_top_k/top_10_categorical_accuracy: 0.6327 - factorized_top_k/top_50_categorical_accuracy: 1.0000 - factorized_top_k/top_100_categorical_accuracy: 1.0000 - loss: 2224.9828 - regularization_loss: 0.0000e+00 - total_loss: 2224.9828\n",
      "Epoch 3/3\n",
      "10/10 [==============================] - 0s 47ms/step - factorized_top_k/top_1_categorical_accuracy: 0.0575 - factorized_top_k/top_5_categorical_accuracy: 0.4570 - factorized_top_k/top_10_categorical_accuracy: 0.7025 - factorized_top_k/top_50_categorical_accuracy: 1.0000 - factorized_top_k/top_100_categorical_accuracy: 1.0000 - loss: 2143.0706 - regularization_loss: 0.0000e+00 - total_loss: 2143.0706\n"
     ]
    },
    {
     "data": {
      "text/plain": [
       "<keras.callbacks.History at 0x7ff658157b80>"
      ]
     },
     "execution_count": 34,
     "metadata": {},
     "output_type": "execute_result"
    }
   ],
   "source": [
    "model.fit(cached_train, epochs=3)"
   ]
  },
  {
   "cell_type": "code",
   "execution_count": 35,
   "metadata": {},
   "outputs": [
    {
     "name": "stdout",
     "output_type": "stream",
     "text": [
      "7/7 [==============================] - 1s 39ms/step - factorized_top_k/top_1_categorical_accuracy: 0.0627 - factorized_top_k/top_5_categorical_accuracy: 0.2804 - factorized_top_k/top_10_categorical_accuracy: 0.5498 - factorized_top_k/top_50_categorical_accuracy: 1.0000 - factorized_top_k/top_100_categorical_accuracy: 1.0000 - loss: 124.3762 - regularization_loss: 0.0000e+00 - total_loss: 124.3762\n"
     ]
    },
    {
     "data": {
      "text/plain": [
       "{'factorized_top_k/top_1_categorical_accuracy': 0.06273062527179718,\n",
       " 'factorized_top_k/top_5_categorical_accuracy': 0.2804428040981293,\n",
       " 'factorized_top_k/top_10_categorical_accuracy': 0.5498154759407043,\n",
       " 'factorized_top_k/top_50_categorical_accuracy': 1.0,\n",
       " 'factorized_top_k/top_100_categorical_accuracy': 1.0,\n",
       " 'loss': 105.45509338378906,\n",
       " 'regularization_loss': 0,\n",
       " 'total_loss': 105.45509338378906}"
      ]
     },
     "execution_count": 35,
     "metadata": {},
     "output_type": "execute_result"
    }
   ],
   "source": [
    "model.evaluate(cached_test, return_dict=True)"
   ]
  },
  {
   "cell_type": "code",
   "execution_count": 36,
   "metadata": {},
   "outputs": [
    {
     "name": "stdout",
     "output_type": "stream",
     "text": [
      "Recommendations for user 378101: [b'Menjadi Azure Cloud Developer' b'Belajar Dasar Pemrograman Web'\n",
      " b'Belajar Fundamental Aplikasi Flutter']\n"
     ]
    }
   ],
   "source": [
    "# Create a model that takes in raw query features, and\n",
    "index = tfrs.layers.factorized_top_k.BruteForce(model.user_model)\n",
    "# recommends courses out of the entire courses dataset.\n",
    "index.index_from_dataset(\n",
    "  tf.data.Dataset.zip((courses.batch(10), courses.batch(10).map(model.course_model)))\n",
    ")\n",
    "\n",
    "user_id = 378101\n",
    "# Get recommendations.\n",
    "_, course_name = index(np.array([str(user_id)]))\n",
    "print(f\"Recommendations for user {user_id}: {course_name[0, :3]}\".format(user_id))"
   ]
  },
  {
   "cell_type": "code",
   "execution_count": 37,
   "metadata": {},
   "outputs": [
    {
     "name": "stdout",
     "output_type": "stream",
     "text": [
      "Recommendations for user 378104: [b'Belajar Membuat Aplikasi Android untuk Pemula'\n",
      " b'Belajar Fundamental Aplikasi Android' b'Belajar Dasar UX Design']\n"
     ]
    }
   ],
   "source": [
    "user_id = 378104\n",
    "# Get recommendations.\n",
    "_, course_name = index(np.array([str(user_id)]))\n",
    "print(f\"Recommendations for user {user_id}: {course_name[0, :3]}\".format(user_id))"
   ]
  },
  {
   "cell_type": "code",
   "execution_count": 38,
   "metadata": {},
   "outputs": [
    {
     "name": "stdout",
     "output_type": "stream",
     "text": [
      "Recommendations for user 378107: [b'Belajar Membuat Aplikasi Back-End untuk Pemula'\n",
      " b'Belajar Dasar Pemrograman JavaScript'\n",
      " b'Belajar Dasar Git dengan GitHub']\n"
     ]
    }
   ],
   "source": [
    "user_id = 378107\n",
    "# Get recommendations.\n",
    "_, course_name = index(np.array([str(user_id)]))\n",
    "print(f\"Recommendations for user {user_id}: {course_name[0, :3]}\".format(user_id))"
   ]
  },
  {
   "cell_type": "code",
   "execution_count": 39,
   "metadata": {},
   "outputs": [
    {
     "name": "stdout",
     "output_type": "stream",
     "text": [
      "Recommendations for user 378110: [b'Memulai Pemrograman Dengan Java'\n",
      " b'Belajar Fundamental Aplikasi Android'\n",
      " b'Menjadi Android Developer Expert']\n"
     ]
    }
   ],
   "source": [
    "user_id = 378110\n",
    "# Get recommendations.\n",
    "_, course_name = index(np.array([str(user_id)]))\n",
    "print(f\"Recommendations for user {user_id}: {course_name[0, :3]}\".format(user_id))"
   ]
  },
  {
   "cell_type": "code",
   "execution_count": 40,
   "metadata": {},
   "outputs": [
    {
     "name": "stdout",
     "output_type": "stream",
     "text": [
      "Recommendations for user 378113: [b'Belajar Membuat Aplikasi Android untuk Pemula'\n",
      " b'Belajar Fundamental Aplikasi Android' b'Belajar Dasar UX Design']\n"
     ]
    }
   ],
   "source": [
    "user_id = 378113\n",
    "# Get recommendations.\n",
    "_, course_name = index(np.array([str(user_id)]))\n",
    "print(f\"Recommendations for user {user_id}: {course_name[0, :3]}\".format(user_id))"
   ]
  },
  {
   "cell_type": "code",
   "execution_count": 41,
   "metadata": {},
   "outputs": [
    {
     "data": {
      "text/plain": [
       "array([b'378101', b'378104', b'378107', b'378110', b'378113', b'378116',\n",
       "       b'378119', b'378122', b'378125', b'378128'], dtype=object)"
      ]
     },
     "execution_count": 41,
     "metadata": {},
     "output_type": "execute_result"
    }
   ],
   "source": [
    "unique_user_ids[:10]"
   ]
  },
  {
   "cell_type": "code",
   "execution_count": 48,
   "metadata": {},
   "outputs": [
    {
     "data": {
      "text/plain": [
       "array([b'380981', b'380990', b'380993', b'381005', b'381011', b'381014',\n",
       "       b'381023', b'381026', b'381044', b'381047', b'381056', b'381059',\n",
       "       b'381062', b'381068', b'381071', b'381077', b'381080', b'381083',\n",
       "       b'381086', b'381089', b'381092', b'381095', b'381098', b'381101',\n",
       "       b'381104', b'381107', b'381110', b'381113', b'381116', b'381125',\n",
       "       b'381128', b'381137', b'381140', b'381143', b'381146'],\n",
       "      dtype=object)"
      ]
     },
     "execution_count": 48,
     "metadata": {},
     "output_type": "execute_result"
    }
   ],
   "source": [
    "unique_user_ids[600:]"
   ]
  },
  {
   "cell_type": "code",
   "execution_count": 49,
   "metadata": {},
   "outputs": [
    {
     "name": "stdout",
     "output_type": "stream",
     "text": [
      "Recommendations for user 381146: [b'Menjadi Android Developer Expert'\n",
      " b'Belajar Fundamental Aplikasi Flutter'\n",
      " b'Menjadi Front-End Web Developer Expert']\n"
     ]
    }
   ],
   "source": [
    "user_id = 381146\n",
    "# Get recommendations.\n",
    "_, course_name = index(np.array([str(user_id)]))\n",
    "print(f\"Recommendations for user {user_id}: {course_name[0, :3]}\".format(user_id))"
   ]
  },
  {
   "cell_type": "code",
   "execution_count": 53,
   "metadata": {},
   "outputs": [
    {
     "name": "stdout",
     "output_type": "stream",
     "text": [
      "Recommendations for user 381147: [b'Menjadi Android Developer Expert' b'Belajar Membangun LINE Chatbot'\n",
      " b'Belajar Pengembangan Machine Learning']\n"
     ]
    }
   ],
   "source": [
    "user_id = 381147\n",
    "# Get recommendations.\n",
    "_, course_name = index(np.array([str(user_id)]))\n",
    "print(f\"Recommendations for user {user_id}: {course_name[0, :3]}\".format(user_id))"
   ]
  },
  {
   "cell_type": "code",
   "execution_count": 50,
   "metadata": {},
   "outputs": [
    {
     "name": "stdout",
     "output_type": "stream",
     "text": [
      "Recommendations for user 381150: [b'Menjadi Android Developer Expert' b'Belajar Membangun LINE Chatbot'\n",
      " b'Belajar Pengembangan Machine Learning']\n"
     ]
    }
   ],
   "source": [
    "user_id = 381150\n",
    "# Get recommendations.\n",
    "_, course_name = index(np.array([str(user_id)]))\n",
    "print(f\"Recommendations for user {user_id}: {course_name[0, :3]}\".format(user_id))"
   ]
  },
  {
   "cell_type": "code",
   "execution_count": 51,
   "metadata": {},
   "outputs": [
    {
     "name": "stdout",
     "output_type": "stream",
     "text": [
      "Recommendations for user 381152: [b'Menjadi Android Developer Expert' b'Belajar Membangun LINE Chatbot'\n",
      " b'Belajar Pengembangan Machine Learning']\n"
     ]
    }
   ],
   "source": [
    "user_id = 381152\n",
    "# Get recommendations.\n",
    "_, course_name = index(np.array([str(user_id)]))\n",
    "print(f\"Recommendations for user {user_id}: {course_name[0, :3]}\".format(user_id))"
   ]
  },
  {
   "cell_type": "code",
   "execution_count": 52,
   "metadata": {},
   "outputs": [
    {
     "name": "stdout",
     "output_type": "stream",
     "text": [
      "Recommendations for user 381155: [b'Menjadi Android Developer Expert' b'Belajar Membangun LINE Chatbot'\n",
      " b'Belajar Pengembangan Machine Learning']\n"
     ]
    }
   ],
   "source": [
    "user_id = 381155\n",
    "# Get recommendations.\n",
    "_, course_name = index(np.array([str(user_id)]))\n",
    "print(f\"Recommendations for user {user_id}: {course_name[0, :3]}\".format(user_id))"
   ]
  }
 ],
 "metadata": {
  "interpreter": {
   "hash": "916dbcbb3f70747c44a77c7bcd40155683ae19c65e1c03b4aa3499c5328201f1"
  },
  "kernelspec": {
   "display_name": "Python 3.8.10 64-bit",
   "language": "python",
   "name": "python3"
  },
  "language_info": {
   "codemirror_mode": {
    "name": "ipython",
    "version": 3
   },
   "file_extension": ".py",
   "mimetype": "text/x-python",
   "name": "python",
   "nbconvert_exporter": "python",
   "pygments_lexer": "ipython3",
   "version": "3.8.10"
  },
  "orig_nbformat": 4
 },
 "nbformat": 4,
 "nbformat_minor": 2
}
