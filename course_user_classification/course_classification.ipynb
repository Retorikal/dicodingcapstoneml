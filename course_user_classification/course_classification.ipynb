{
 "cells": [
  {
   "cell_type": "code",
   "execution_count": 1,
   "metadata": {},
   "outputs": [],
   "source": [
    "# import library\n",
    "import re\n",
    "import itertools\n",
    "import numpy as np\n",
    "import pandas as pd\n",
    "import tensorflow as tf\n",
    "import matplotlib.pyplot as plt"
   ]
  },
  {
   "cell_type": "code",
   "execution_count": 2,
   "metadata": {},
   "outputs": [
    {
     "name": "stderr",
     "output_type": "stream",
     "text": [
      "/home/moseshubert/.local/lib/python3.8/site-packages/tqdm/auto.py:22: TqdmWarning: IProgress not found. Please update jupyter and ipywidgets. See https://ipywidgets.readthedocs.io/en/stable/user_install.html\n",
      "  from .autonotebook import tqdm as notebook_tqdm\n",
      "[nltk_data] Downloading package stopwords to\n",
      "[nltk_data]     /home/moseshubert/nltk_data...\n",
      "[nltk_data]   Package stopwords is already up-to-date!\n",
      "[nltk_data] Downloading package wordnet to\n",
      "[nltk_data]     /home/moseshubert/nltk_data...\n",
      "[nltk_data]   Package wordnet is already up-to-date!\n",
      "[nltk_data] Downloading package omw-1.4 to\n",
      "[nltk_data]     /home/moseshubert/nltk_data...\n",
      "[nltk_data]   Package omw-1.4 is already up-to-date!\n"
     ]
    },
    {
     "data": {
      "text/plain": [
       "True"
      ]
     },
     "execution_count": 2,
     "metadata": {},
     "output_type": "execute_result"
    }
   ],
   "source": [
    "# import library untuk text processing\n",
    "import nltk\n",
    "import string\n",
    "from nltk.corpus import stopwords\n",
    "from nltk.stem import WordNetLemmatizer\n",
    "from textattack.augmentation import EasyDataAugmenter\n",
    "nltk.download('stopwords')\n",
    "nltk.download('wordnet')\n",
    "nltk.download('omw-1.4')"
   ]
  },
  {
   "cell_type": "markdown",
   "metadata": {},
   "source": [
    "# Mendefinisikan fungsi yang diperlukan"
   ]
  },
  {
   "cell_type": "code",
   "execution_count": 3,
   "metadata": {},
   "outputs": [],
   "source": [
    "def text_process(text):\n",
    "    '''\n",
    "    Takes in a string of text, then performs the following:\n",
    "    1. Remove all punctuation\n",
    "    2. Remove all stopwords\n",
    "    3. Return the cleaned text as a list of words\n",
    "    4. Remove words\n",
    "    '''\n",
    "    stemmer = WordNetLemmatizer()\n",
    "    nopunc = [char for char in text if char not in string.punctuation]\n",
    "    nopunc = ''.join([i for i in nopunc if not i.isdigit()])\n",
    "    nopunc =  [word.lower() for word in nopunc.split() if word not in stopwords.words('english')]\n",
    "    return [stemmer.lemmatize(word) for word in nopunc]"
   ]
  },
  {
   "cell_type": "code",
   "execution_count": 4,
   "metadata": {},
   "outputs": [],
   "source": [
    "# Function to convert  \n",
    "def listToString(s): \n",
    "    # initialize an empty string\n",
    "    str1 = \" \" \n",
    "    # return string  \n",
    "    return (str1.join(s))"
   ]
  },
  {
   "cell_type": "code",
   "execution_count": 5,
   "metadata": {},
   "outputs": [],
   "source": [
    "def cleaner(txt):\n",
    "    # txt = re.sub(\"bangkit \", \"\", txt)\n",
    "    txt = re.sub(\"\\d+ \", \"\", txt)\n",
    "    txt = re.sub(\"abi farhan \", \"\", txt)\n",
    "    txt = re.sub(\"bangkit \", \"\", txt)\n",
    "    return txt"
   ]
  },
  {
   "cell_type": "code",
   "execution_count": 6,
   "metadata": {},
   "outputs": [],
   "source": [
    "# fungsi mengubah dataset ke dalam bentuk dictionary\n",
    "def slices(features):\n",
    "  for i in itertools.count():\n",
    "    # For each feature take index `i`\n",
    "    example = {name:values[i] for name, values in features.items()}\n",
    "    yield example"
   ]
  },
  {
   "cell_type": "code",
   "execution_count": 7,
   "metadata": {},
   "outputs": [],
   "source": [
    "# fungsi untuk plot grafik akurasi dan loss\n",
    "def plot_graphs(history, metric):\n",
    "  plt.plot(history.history[metric])\n",
    "  plt.plot(history.history['val_'+metric], '')\n",
    "  plt.xlabel(\"Epochs\")\n",
    "  plt.ylabel(metric)\n",
    "  plt.legend([metric, 'val_'+metric])"
   ]
  },
  {
   "cell_type": "code",
   "execution_count": 8,
   "metadata": {},
   "outputs": [],
   "source": [
    "def output(model_output):\n",
    "    learning_path = ['Android Developer', 'Machine Learning Developer', 'Cloud Developer']\n",
    "    return learning_path[np.argmax(model_output[0])]"
   ]
  },
  {
   "cell_type": "markdown",
   "metadata": {},
   "source": [
    "# Mengambil data dan melakukan pre-process"
   ]
  },
  {
   "cell_type": "code",
   "execution_count": 9,
   "metadata": {},
   "outputs": [
    {
     "data": {
      "text/html": [
       "<div>\n",
       "<style scoped>\n",
       "    .dataframe tbody tr th:only-of-type {\n",
       "        vertical-align: middle;\n",
       "    }\n",
       "\n",
       "    .dataframe tbody tr th {\n",
       "        vertical-align: top;\n",
       "    }\n",
       "\n",
       "    .dataframe thead th {\n",
       "        text-align: right;\n",
       "    }\n",
       "</style>\n",
       "<table border=\"1\" class=\"dataframe\">\n",
       "  <thead>\n",
       "    <tr style=\"text-align: right;\">\n",
       "      <th></th>\n",
       "      <th>Experience</th>\n",
       "      <th>Label</th>\n",
       "    </tr>\n",
       "  </thead>\n",
       "  <tbody>\n",
       "    <tr>\n",
       "      <th>0</th>\n",
       "      <td>Abi Farhan Android Android Development Android...</td>\n",
       "      <td>0</td>\n",
       "    </tr>\n",
       "    <tr>\n",
       "      <th>1</th>\n",
       "      <td>Aceh Community Developer Achinese Android Deve...</td>\n",
       "      <td>0</td>\n",
       "    </tr>\n",
       "    <tr>\n",
       "      <th>2</th>\n",
       "      <td>Alodokter for Doctor Android Android Developer...</td>\n",
       "      <td>0</td>\n",
       "    </tr>\n",
       "    <tr>\n",
       "      <th>3</th>\n",
       "      <td>Android Developer Student Android Learner Assi...</td>\n",
       "      <td>0</td>\n",
       "    </tr>\n",
       "    <tr>\n",
       "      <th>4</th>\n",
       "      <td>Algoritma Data Science School Alterra Academy ...</td>\n",
       "      <td>0</td>\n",
       "    </tr>\n",
       "  </tbody>\n",
       "</table>\n",
       "</div>"
      ],
      "text/plain": [
       "                                          Experience  Label\n",
       "0  Abi Farhan Android Android Development Android...      0\n",
       "1  Aceh Community Developer Achinese Android Deve...      0\n",
       "2  Alodokter for Doctor Android Android Developer...      0\n",
       "3  Android Developer Student Android Learner Assi...      0\n",
       "4  Algoritma Data Science School Alterra Academy ...      0"
      ]
     },
     "execution_count": 9,
     "metadata": {},
     "output_type": "execute_result"
    }
   ],
   "source": [
    "df = pd.read_csv(\"/home/moseshubert/Documents/bangkit_project/scraping/selenium/linkedin/profil_fix.csv\")\n",
    "df = df.drop(columns=['Name'])\n",
    "df.head()"
   ]
  },
  {
   "cell_type": "code",
   "execution_count": 10,
   "metadata": {},
   "outputs": [
    {
     "data": {
      "text/html": [
       "<div>\n",
       "<style scoped>\n",
       "    .dataframe tbody tr th:only-of-type {\n",
       "        vertical-align: middle;\n",
       "    }\n",
       "\n",
       "    .dataframe tbody tr th {\n",
       "        vertical-align: top;\n",
       "    }\n",
       "\n",
       "    .dataframe thead th {\n",
       "        text-align: right;\n",
       "    }\n",
       "</style>\n",
       "<table border=\"1\" class=\"dataframe\">\n",
       "  <thead>\n",
       "    <tr style=\"text-align: right;\">\n",
       "      <th></th>\n",
       "      <th>Experience</th>\n",
       "      <th>Label</th>\n",
       "    </tr>\n",
       "  </thead>\n",
       "  <tbody>\n",
       "    <tr>\n",
       "      <th>0</th>\n",
       "      <td>android android development android engineer a...</td>\n",
       "      <td>0</td>\n",
       "    </tr>\n",
       "    <tr>\n",
       "      <th>1</th>\n",
       "      <td>aceh community developer achinese android deve...</td>\n",
       "      <td>0</td>\n",
       "    </tr>\n",
       "    <tr>\n",
       "      <th>2</th>\n",
       "      <td>alodokter doctor android android developer and...</td>\n",
       "      <td>0</td>\n",
       "    </tr>\n",
       "    <tr>\n",
       "      <th>3</th>\n",
       "      <td>android developer student android learner assi...</td>\n",
       "      <td>0</td>\n",
       "    </tr>\n",
       "    <tr>\n",
       "      <th>4</th>\n",
       "      <td>algoritma data science school alterra academy ...</td>\n",
       "      <td>0</td>\n",
       "    </tr>\n",
       "  </tbody>\n",
       "</table>\n",
       "</div>"
      ],
      "text/plain": [
       "                                          Experience  Label\n",
       "0  android android development android engineer a...      0\n",
       "1  aceh community developer achinese android deve...      0\n",
       "2  alodokter doctor android android developer and...      0\n",
       "3  android developer student android learner assi...      0\n",
       "4  algoritma data science school alterra academy ...      0"
      ]
     },
     "execution_count": 10,
     "metadata": {},
     "output_type": "execute_result"
    }
   ],
   "source": [
    "df['Experience'] = df['Experience'].apply(text_process).apply(listToString).apply(cleaner)\n",
    "df.head()"
   ]
  },
  {
   "cell_type": "code",
   "execution_count": 11,
   "metadata": {},
   "outputs": [
    {
     "name": "stderr",
     "output_type": "stream",
     "text": [
      "[nltk_data] Downloading package omw-1.4 to\n",
      "[nltk_data]     /home/moseshubert/nltk_data...\n",
      "[nltk_data]   Package omw-1.4 is already up-to-date!\n"
     ]
    }
   ],
   "source": [
    "eda_aug = EasyDataAugmenter()\n",
    "\n",
    "new_experience = []\n",
    "new_label = []\n",
    "\n",
    "for ind in df.index:\n",
    "    new_experience.append(df['Experience'][ind])\n",
    "    new_label.append(df['Label'][ind])\n",
    "    exp_augment = eda_aug.augment(df['Experience'][ind])\n",
    "    new_experience.extend(exp_augment)\n",
    "    for exp in exp_augment:\n",
    "        new_label.append(df['Label'][ind])"
   ]
  },
  {
   "cell_type": "code",
   "execution_count": 12,
   "metadata": {},
   "outputs": [
    {
     "data": {
      "text/html": [
       "<div>\n",
       "<style scoped>\n",
       "    .dataframe tbody tr th:only-of-type {\n",
       "        vertical-align: middle;\n",
       "    }\n",
       "\n",
       "    .dataframe tbody tr th {\n",
       "        vertical-align: top;\n",
       "    }\n",
       "\n",
       "    .dataframe thead th {\n",
       "        text-align: right;\n",
       "    }\n",
       "</style>\n",
       "<table border=\"1\" class=\"dataframe\">\n",
       "  <thead>\n",
       "    <tr style=\"text-align: right;\">\n",
       "      <th></th>\n",
       "      <th>Experience</th>\n",
       "      <th>Label</th>\n",
       "    </tr>\n",
       "  </thead>\n",
       "  <tbody>\n",
       "    <tr>\n",
       "      <th>490</th>\n",
       "      <td>memulai belajar data science bagi pemula bootc...</td>\n",
       "      <td>1</td>\n",
       "    </tr>\n",
       "    <tr>\n",
       "      <th>491</th>\n",
       "      <td>memulai instrumentalist belajar player data sc...</td>\n",
       "      <td>1</td>\n",
       "    </tr>\n",
       "    <tr>\n",
       "      <th>492</th>\n",
       "      <td>memulai belajar data skill bagi pemula bootcam...</td>\n",
       "      <td>1</td>\n",
       "    </tr>\n",
       "    <tr>\n",
       "      <th>493</th>\n",
       "      <td>belajar data science bagi bootcamps participan...</td>\n",
       "      <td>1</td>\n",
       "    </tr>\n",
       "    <tr>\n",
       "      <th>494</th>\n",
       "      <td>memulai belajar laboratory science bagi pemula...</td>\n",
       "      <td>1</td>\n",
       "    </tr>\n",
       "  </tbody>\n",
       "</table>\n",
       "</div>"
      ],
      "text/plain": [
       "                                            Experience  Label\n",
       "490  memulai belajar data science bagi pemula bootc...      1\n",
       "491  memulai instrumentalist belajar player data sc...      1\n",
       "492  memulai belajar data skill bagi pemula bootcam...      1\n",
       "493  belajar data science bagi bootcamps participan...      1\n",
       "494  memulai belajar laboratory science bagi pemula...      1"
      ]
     },
     "execution_count": 12,
     "metadata": {},
     "output_type": "execute_result"
    }
   ],
   "source": [
    "df_new = pd.DataFrame(list(zip(new_experience, new_label)), columns =['Experience', 'Label'])\n",
    "df_new.tail()"
   ]
  },
  {
   "cell_type": "code",
   "execution_count": 13,
   "metadata": {},
   "outputs": [
    {
     "name": "stdout",
     "output_type": "stream",
     "text": [
      "Experience         : android android development android engineer android engineer order management team android engineer external code reviewer dicoding academy led google tokopedia gojek traveloka belajar android jetpack pro bill gate budi luhur university cloud practitioner essential belajar dasar aws cloud english external academy code reviewer android githubusers google awardee indonesia kotlin kotlin developer menjadi android developer expert mobile development graduate distinction mobile development graduated mobile development trainee moviecataloguejetpack samanauser satya nadella shopee universitas budi luhur user experience design ux waresix\n",
      "Label              : 0\n"
     ]
    }
   ],
   "source": [
    "# membuat dataset menjadi dictionary\n",
    "data_dict = {\n",
    "    name:np.array(value)\n",
    "    for name, value in df_new.items()\n",
    "}\n",
    "\n",
    "# menunjukkan data pada course dictionary\n",
    "for example in slices(data_dict):\n",
    "  for name, value in example.items():\n",
    "    print(f\"{name:19s}: {value}\")\n",
    "  break"
   ]
  },
  {
   "cell_type": "code",
   "execution_count": 14,
   "metadata": {},
   "outputs": [
    {
     "data": {
      "text/plain": [
       "array(['android android development android engineer android engineer order management team android engineer external code reviewer dicoding academy led google tokopedia gojek traveloka belajar android jetpack pro bill gate budi luhur university cloud practitioner essential belajar dasar aws cloud english external academy code reviewer android githubusers google awardee indonesia kotlin kotlin developer menjadi android developer expert mobile development graduate distinction mobile development graduated mobile development trainee moviecataloguejetpack samanauser satya nadella shopee universitas budi luhur user experience design ux waresix'],\n",
       "      dtype=object)"
      ]
     },
     "execution_count": 14,
     "metadata": {},
     "output_type": "execute_result"
    }
   ],
   "source": [
    "data_exp = data_dict['Experience']\n",
    "data_exp[:1]"
   ]
  },
  {
   "cell_type": "code",
   "execution_count": 15,
   "metadata": {},
   "outputs": [
    {
     "data": {
      "text/plain": [
       "array([0, 0, 0, 0, 0, 0, 0, 0, 0, 0])"
      ]
     },
     "execution_count": 15,
     "metadata": {},
     "output_type": "execute_result"
    }
   ],
   "source": [
    "data_lab = data_dict['Label']\n",
    "data_lab[:10]"
   ]
  },
  {
   "cell_type": "code",
   "execution_count": 16,
   "metadata": {},
   "outputs": [
    {
     "data": {
      "text/plain": [
       "(TensorSpec(shape=(), dtype=tf.string, name=None),\n",
       " TensorSpec(shape=(), dtype=tf.int64, name=None))"
      ]
     },
     "execution_count": 16,
     "metadata": {},
     "output_type": "execute_result"
    }
   ],
   "source": [
    "# mengubah bentuk dictionary menjadi tf dataset\n",
    "data = tf.data.Dataset.from_tensor_slices((data_exp, data_lab))\n",
    "data.element_spec"
   ]
  },
  {
   "cell_type": "code",
   "execution_count": 17,
   "metadata": {},
   "outputs": [
    {
     "name": "stdout",
     "output_type": "stream",
     "text": [
      "Experience:  b'android android development android engineer android engineer order management team android engineer external code reviewer dicoding academy led google tokopedia gojek traveloka belajar android jetpack pro bill gate budi luhur university cloud practitioner essential belajar dasar aws cloud english external academy code reviewer android githubusers google awardee indonesia kotlin kotlin developer menjadi android developer expert mobile development graduate distinction mobile development graduated mobile development trainee moviecataloguejetpack samanauser satya nadella shopee universitas budi luhur user experience design ux waresix'\n",
      "Label:  0\n"
     ]
    }
   ],
   "source": [
    "for example, label in data.take(1):\n",
    "  print('Experience: ', example.numpy())\n",
    "  print('Label: ', label.numpy())"
   ]
  },
  {
   "cell_type": "code",
   "execution_count": 18,
   "metadata": {},
   "outputs": [],
   "source": [
    "# melakukan shuffle data secara random\n",
    "tf.random.set_seed(1234)\n",
    "shuffled = data.shuffle(len(data), seed=1234, reshuffle_each_iteration=False)"
   ]
  },
  {
   "cell_type": "code",
   "execution_count": 19,
   "metadata": {},
   "outputs": [],
   "source": [
    "batch_size = 32\n",
    "\n",
    "# memisahkan data menjadi train dan test data\n",
    "train_dataset = shuffled.take(475).batch(batch_size).prefetch(tf.data.AUTOTUNE)\n",
    "valid_dataset = shuffled.skip(475).take(20).batch(batch_size).prefetch(tf.data.AUTOTUNE)"
   ]
  },
  {
   "cell_type": "code",
   "execution_count": 20,
   "metadata": {},
   "outputs": [
    {
     "name": "stdout",
     "output_type": "stream",
     "text": [
      "Experience:  b'android development apple developer academy indonesia architecting google compute engine specialization assistant lecturer web development academy graduate distinction bill gate cloud computing academy participant academy denpasar cohort deep encyclopedism specialization ef standard english test english offset range tokopedia fit campus x project from data insight google cloud platform specialization google cloud indonesian javanese jembrana satu data dari desa surveyor Mobile app journal article assessment system junior prentice tech jury favorite award international emerging technology competition kelompok studi technology artisan machine memorize microsoft nix insure robotic technology universitas udayana ryan andriant satya nadella software organize software engineer backend software engineer backend intern software engineer backend traveloka learner apple developer academy toefl teaching assistant algorithm programming tomato harvesting robot traveloka universitas udayana network developing'\n",
      "\n",
      "Label:  2\n"
     ]
    }
   ],
   "source": [
    "for example, label in train_dataset.take(1):\n",
    "  print('Experience: ', example.numpy()[1])\n",
    "  print()\n",
    "  print('Label: ', label.numpy()[1])"
   ]
  },
  {
   "cell_type": "code",
   "execution_count": 21,
   "metadata": {},
   "outputs": [],
   "source": [
    "VOCAB_SIZE = 1000\n",
    "encoder = tf.keras.layers.TextVectorization(\n",
    "    max_tokens=VOCAB_SIZE)\n",
    "encoder.adapt(train_dataset.map(lambda Experience, label: Experience))"
   ]
  },
  {
   "cell_type": "code",
   "execution_count": 22,
   "metadata": {},
   "outputs": [
    {
     "data": {
      "text/plain": [
       "array(['', '[UNK]', 'android', 'developer', 'google', 'cloud', 'learning',\n",
       "       'academy', 'data', 'student', 'machine', 'engineer', 'development',\n",
       "       'indonesia', 'belajar', 'universitas', 'university', 'tensorflow',\n",
       "       'computing', 'programming'], dtype='<U16')"
      ]
     },
     "execution_count": 22,
     "metadata": {},
     "output_type": "execute_result"
    }
   ],
   "source": [
    "vocab = np.array(encoder.get_vocabulary())\n",
    "vocab[:20]"
   ]
  },
  {
   "cell_type": "code",
   "execution_count": 23,
   "metadata": {},
   "outputs": [
    {
     "data": {
      "text/plain": [
       "array([[ 33,   7,  42,  33,   7,   5,  54,  33,   7,  42,  33,   7,   5,\n",
       "        125,   1,  54,   4, 104, 102,  22,   5,  18,  25,   7,  34,   4,\n",
       "         28,  32,  29, 332, 305, 130,  90, 439, 111,   4,   5,  51,  37,\n",
       "          5,  11,   4,   5,  51,  96,   5, 842,  51,  58,   1, 433, 441,\n",
       "        433, 441,   1, 478, 473, 111, 170,  11,   1, 268,  57,   1,  58,\n",
       "          1, 234, 838,  68,  90, 439, 111, 137,   1, 983, 992, 441, 433,\n",
       "        172,  57,  28,  15, 359, 323, 277,   0,   0,   0,   0,   0,   0,\n",
       "          0,   0,   0,   0,   0,   0,   0,   0,   0,   0,   0,   0,   0,\n",
       "          0,   0,   0,   0,   0,   0,   0,   0,   0,   0,   0,   0,   0,\n",
       "          0,   0,   0,   0,   0,   0,   0,   0,   0,   0,   0,   0,   0,\n",
       "          0,   0,   0,   0,   0,   0,   0,   0,   0,   0,   0,   0,   0,\n",
       "          0,   0,   0,   0,   0,   0,   0,   0,   0,   0,   0,   0,   0,\n",
       "          0,   0,   0,   0,   0,   0,   0,   0]])"
      ]
     },
     "execution_count": 23,
     "metadata": {},
     "output_type": "execute_result"
    }
   ],
   "source": [
    "encoded_example = encoder(example)[:1].numpy()\n",
    "encoded_example"
   ]
  },
  {
   "cell_type": "code",
   "execution_count": 24,
   "metadata": {},
   "outputs": [
    {
     "name": "stdout",
     "output_type": "stream",
     "text": [
      "Original:  b'aws academy graduate aws academy cloud architecting aws academy graduate aws academy cloud foundation adaptation architecting google compute engine specialization cloud computing path academy led google tokopedia gojek traveloka ccna cyber security program digitalent scholarship google cloud certified associate cloud engineer google cloud certified professional cloud architect certified network defender huawei datacom huawei datacom msib kampus merdeka scholarship infrastructure engineer manukku capstone project bcap network defense operation blue team program digitalent scholarship networking routing sinom si datacom huawei final project tokopedia universitas gadjah mada ugm'\n",
      "Round-trip:  aws academy graduate aws academy cloud architecting aws academy graduate aws academy cloud foundation [UNK] architecting google compute engine specialization cloud computing path academy led google tokopedia gojek traveloka ccna cyber security program digitalent scholarship google cloud certified associate cloud engineer google cloud certified professional cloud architect certified network [UNK] huawei datacom huawei datacom [UNK] kampus merdeka scholarship infrastructure engineer [UNK] capstone project [UNK] network [UNK] operation blue team program digitalent scholarship networking [UNK] sinom si datacom huawei final project tokopedia universitas gadjah mada ugm                                                                               \n",
      "\n"
     ]
    }
   ],
   "source": [
    "for n in range(1):\n",
    "  print(\"Original: \", example[n].numpy())\n",
    "  print(\"Round-trip: \", \" \".join(vocab[encoded_example[n]]))\n",
    "  print()"
   ]
  },
  {
   "cell_type": "markdown",
   "metadata": {},
   "source": [
    "# Membuat model untuk rekomendasi course"
   ]
  },
  {
   "cell_type": "code",
   "execution_count": 25,
   "metadata": {},
   "outputs": [],
   "source": [
    "model = tf.keras.Sequential([\n",
    "    encoder,\n",
    "    tf.keras.layers.Embedding(len(encoder.get_vocabulary()), 128, mask_zero=True),\n",
    "    tf.keras.layers.Bidirectional(tf.keras.layers.LSTM(128,  return_sequences=True)),\n",
    "    tf.keras.layers.Bidirectional(tf.keras.layers.LSTM(64)),\n",
    "    tf.keras.layers.Dense(128, activation='relu'),\n",
    "    tf.keras.layers.Dropout(0.3),\n",
    "    tf.keras.layers.Dense(3, activation='softmax')\n",
    "])"
   ]
  },
  {
   "cell_type": "code",
   "execution_count": 26,
   "metadata": {},
   "outputs": [
    {
     "name": "stdout",
     "output_type": "stream",
     "text": [
      "Model: \"sequential\"\n",
      "_________________________________________________________________\n",
      " Layer (type)                Output Shape              Param #   \n",
      "=================================================================\n",
      " text_vectorization (TextVec  (None, None)             0         \n",
      " torization)                                                     \n",
      "                                                                 \n",
      " embedding (Embedding)       (None, None, 128)         128000    \n",
      "                                                                 \n",
      " bidirectional (Bidirectiona  (None, None, 256)        263168    \n",
      " l)                                                              \n",
      "                                                                 \n",
      " bidirectional_1 (Bidirectio  (None, 128)              164352    \n",
      " nal)                                                            \n",
      "                                                                 \n",
      " dense (Dense)               (None, 128)               16512     \n",
      "                                                                 \n",
      " dropout (Dropout)           (None, 128)               0         \n",
      "                                                                 \n",
      " dense_1 (Dense)             (None, 3)                 387       \n",
      "                                                                 \n",
      "=================================================================\n",
      "Total params: 572,419\n",
      "Trainable params: 572,419\n",
      "Non-trainable params: 0\n",
      "_________________________________________________________________\n"
     ]
    }
   ],
   "source": [
    "model.summary()"
   ]
  },
  {
   "cell_type": "code",
   "execution_count": 27,
   "metadata": {},
   "outputs": [
    {
     "name": "stdout",
     "output_type": "stream",
     "text": [
      "[False, True, True, True, True, True, True]\n"
     ]
    }
   ],
   "source": [
    "print([layer.supports_masking for layer in model.layers])"
   ]
  },
  {
   "cell_type": "code",
   "execution_count": 28,
   "metadata": {},
   "outputs": [],
   "source": [
    "model.compile(loss=tf.keras.losses.SparseCategoricalCrossentropy(from_logits=True),\n",
    "              optimizer=tf.keras.optimizers.Adam(1e-3),\n",
    "              metrics=['accuracy'])"
   ]
  },
  {
   "cell_type": "code",
   "execution_count": 29,
   "metadata": {},
   "outputs": [],
   "source": [
    "# Membuat kelas callback agar dapat menentukan indikator training\n",
    "class myCallback(tf.keras.callbacks.Callback):\n",
    "  def on_epoch_end(self, epoch, logs={}):\n",
    "    # Melakukan pengecekan nilai loss dan akurasi saat training\n",
    "    if(logs.get('loss') < 0.05 and logs.get('accuracy') > 0.95):\n",
    "\n",
    "      # Mengeluarkan pesan ketika threshold telah ditemui\n",
    "      print(\"\\nLoss is lower than 0.05 and accuracy is higher than 0.95 so cancelling training!\")\n",
    "      self.model.stop_training = True\n",
    "\n",
    "callbacks = myCallback()"
   ]
  },
  {
   "cell_type": "code",
   "execution_count": 30,
   "metadata": {},
   "outputs": [
    {
     "name": "stdout",
     "output_type": "stream",
     "text": [
      "Epoch 1/20\n"
     ]
    },
    {
     "name": "stderr",
     "output_type": "stream",
     "text": [
      "/home/moseshubert/.local/lib/python3.8/site-packages/tensorflow/python/util/dispatch.py:1082: UserWarning: \"`sparse_categorical_crossentropy` received `from_logits=True`, but the `output` argument was produced by a sigmoid or softmax activation and thus does not represent logits. Was this intended?\"\n",
      "  return dispatch_target(*args, **kwargs)\n"
     ]
    },
    {
     "name": "stdout",
     "output_type": "stream",
     "text": [
      "15/15 [==============================] - ETA: 0s - loss: 0.9295 - accuracy: 0.6884WARNING:tensorflow:Your input ran out of data; interrupting training. Make sure that your dataset or generator can generate at least `steps_per_epoch * epochs` batches (in this case, 2 batches). You may need to use the repeat() function when building your dataset.\n"
     ]
    },
    {
     "name": "stderr",
     "output_type": "stream",
     "text": [
      "Your input ran out of data; interrupting training. Make sure that your dataset or generator can generate at least `steps_per_epoch * epochs` batches (in this case, 2 batches). You may need to use the repeat() function when building your dataset.\n"
     ]
    },
    {
     "name": "stdout",
     "output_type": "stream",
     "text": [
      "15/15 [==============================] - 22s 734ms/step - loss: 0.9295 - accuracy: 0.6884 - val_loss: 0.3500 - val_accuracy: 0.9000\n",
      "Epoch 2/20\n",
      "15/15 [==============================] - 6s 435ms/step - loss: 0.2224 - accuracy: 0.9432\n",
      "Epoch 3/20\n",
      "15/15 [==============================] - ETA: 0s - loss: 0.0220 - accuracy: 1.0000\n",
      "Loss is lower than 0.05 and accuracy is higher than 0.95 so cancelling training!\n",
      "15/15 [==============================] - 7s 474ms/step - loss: 0.0220 - accuracy: 1.0000\n"
     ]
    }
   ],
   "source": [
    "history = model.fit(train_dataset, epochs=20,\n",
    "                    validation_data=valid_dataset,\n",
    "                    validation_steps=2,\n",
    "                    verbose=1,\n",
    "                    callbacks=[callbacks])"
   ]
  },
  {
   "cell_type": "code",
   "execution_count": 31,
   "metadata": {},
   "outputs": [
    {
     "name": "stdout",
     "output_type": "stream",
     "text": [
      "1/1 [==============================] - 0s 93ms/step - loss: 0.0037 - accuracy: 1.0000\n",
      "Valid Loss: 0.0037170113064348698\n",
      "Valid Accuracy: 1.0\n"
     ]
    }
   ],
   "source": [
    "test_loss, test_acc = model.evaluate(valid_dataset)\n",
    "\n",
    "print('Valid Loss:', test_loss)\n",
    "print('Valid Accuracy:', test_acc)"
   ]
  },
  {
   "cell_type": "code",
   "execution_count": 32,
   "metadata": {},
   "outputs": [
    {
     "data": {
      "text/plain": [
       "(0.0, 0.9748839490115643)"
      ]
     },
     "execution_count": 32,
     "metadata": {},
     "output_type": "execute_result"
    },
    {
     "data": {
      "image/png": "[encoded data removed]",
      "text/plain": [
       "<Figure size 1152x576 with 2 Axes>"
      ]
     },
     "metadata": {
      "needs_background": "light"
     },
     "output_type": "display_data"
    }
   ],
   "source": [
    "plt.figure(figsize=(16, 8))\n",
    "plt.subplot(1, 2, 1)\n",
    "plot_graphs(history, 'accuracy')\n",
    "plt.ylim(None, 1)\n",
    "plt.subplot(1, 2, 2)\n",
    "plot_graphs(history, 'loss')\n",
    "plt.ylim(0, None)"
   ]
  },
  {
   "cell_type": "markdown",
   "metadata": {},
   "source": [
    "# Memberikan rekomendasi untuk random people"
   ]
  },
  {
   "cell_type": "code",
   "execution_count": 34,
   "metadata": {},
   "outputs": [
    {
     "data": {
      "text/html": [
       "<div>\n",
       "<style scoped>\n",
       "    .dataframe tbody tr th:only-of-type {\n",
       "        vertical-align: middle;\n",
       "    }\n",
       "\n",
       "    .dataframe tbody tr th {\n",
       "        vertical-align: top;\n",
       "    }\n",
       "\n",
       "    .dataframe thead th {\n",
       "        text-align: right;\n",
       "    }\n",
       "</style>\n",
       "<table border=\"1\" class=\"dataframe\">\n",
       "  <thead>\n",
       "    <tr style=\"text-align: right;\">\n",
       "      <th></th>\n",
       "      <th>Name</th>\n",
       "      <th>Experience</th>\n",
       "    </tr>\n",
       "  </thead>\n",
       "  <tbody>\n",
       "    <tr>\n",
       "      <th>0</th>\n",
       "      <td>Natassja Arminta P.</td>\n",
       "      <td>best presentation business plan competition bu...</td>\n",
       "    </tr>\n",
       "    <tr>\n",
       "      <th>1</th>\n",
       "      <td>Michael Andoko</td>\n",
       "      <td>rd runner up kontes robot indonesia regional i...</td>\n",
       "    </tr>\n",
       "    <tr>\n",
       "      <th>2</th>\n",
       "      <td>Mikha Hilliard</td>\n",
       "      <td>arduino ide assistant laboratory engineering p...</td>\n",
       "    </tr>\n",
       "    <tr>\n",
       "      <th>3</th>\n",
       "      <td>Annova Gian Paskah</td>\n",
       "      <td>st winner ideax akuo assistant lecturer thermo...</td>\n",
       "    </tr>\n",
       "    <tr>\n",
       "      <th>4</th>\n",
       "      <td>Jovan Natalius Marcos</td>\n",
       "      <td>st winner mars international scientific paper ...</td>\n",
       "    </tr>\n",
       "  </tbody>\n",
       "</table>\n",
       "</div>"
      ],
      "text/plain": [
       "                    Name                                         Experience\n",
       "0    Natassja Arminta P.  best presentation business plan competition bu...\n",
       "1         Michael Andoko  rd runner up kontes robot indonesia regional i...\n",
       "2         Mikha Hilliard  arduino ide assistant laboratory engineering p...\n",
       "3     Annova Gian Paskah  st winner ideax akuo assistant lecturer thermo...\n",
       "4  Jovan Natalius Marcos  st winner mars international scientific paper ..."
      ]
     },
     "execution_count": 34,
     "metadata": {},
     "output_type": "execute_result"
    }
   ],
   "source": [
    "df_test = pd.read_csv('/home/moseshubert/Documents/bangkit_project/scraping/selenium/linkedin/profil_test.csv')\n",
    "df_test = df_test.drop(columns=['Label'])\n",
    "df_test['Experience'] = df_test['Experience'].apply(text_process).apply(listToString)\n",
    "df_test.head()"
   ]
  },
  {
   "cell_type": "code",
   "execution_count": 74,
   "metadata": {},
   "outputs": [
    {
     "name": "stdout",
     "output_type": "stream",
     "text": [
      "1/1 [==============================] - 0s 36ms/step\n",
      "Rekomendasi learning path: Machine Learning Developer. Tingkat akurasi rekomendasi: 0.9872625470161438.\n"
     ]
    }
   ],
   "source": [
    "predictions = model.predict(np.array([df_test['Experience'].loc[0]]))\n",
    "print(\"Rekomendasi learning path: {}. Tingkat akurasi rekomendasi: {}.\".format(output(predictions), np.max(predictions)))"
   ]
  },
  {
   "cell_type": "code",
   "execution_count": 75,
   "metadata": {},
   "outputs": [
    {
     "name": "stdout",
     "output_type": "stream",
     "text": [
      "1/1 [==============================] - 0s 42ms/step\n",
      "Rekomendasi learning path: Machine Learning Developer. Tingkat akurasi rekomendasi: 0.9952800273895264.\n"
     ]
    }
   ],
   "source": [
    "predictions = model.predict(np.array([df_test['Experience'].loc[1]]))\n",
    "print(\"Rekomendasi learning path: {}. Tingkat akurasi rekomendasi: {}.\".format(output(predictions), np.max(predictions)))"
   ]
  },
  {
   "cell_type": "code",
   "execution_count": 76,
   "metadata": {},
   "outputs": [
    {
     "name": "stdout",
     "output_type": "stream",
     "text": [
      "1/1 [==============================] - 0s 43ms/step\n",
      "Rekomendasi learning path: Machine Learning Developer. Tingkat akurasi rekomendasi: 0.9954965114593506.\n"
     ]
    }
   ],
   "source": [
    "predictions = model.predict(np.array([df_test['Experience'].loc[2]]))\n",
    "print(\"Rekomendasi learning path: {}. Tingkat akurasi rekomendasi: {}.\".format(output(predictions), np.max(predictions)))"
   ]
  },
  {
   "cell_type": "code",
   "execution_count": 77,
   "metadata": {},
   "outputs": [
    {
     "name": "stdout",
     "output_type": "stream",
     "text": [
      "1/1 [==============================] - 0s 35ms/step\n",
      "Rekomendasi learning path: Machine Learning Developer. Tingkat akurasi rekomendasi: 0.9823250770568848.\n"
     ]
    }
   ],
   "source": [
    "predictions = model.predict(np.array([df_test['Experience'].loc[3]]))\n",
    "print(\"Rekomendasi learning path: {}. Tingkat akurasi rekomendasi: {}.\".format(output(predictions), np.max(predictions)))"
   ]
  },
  {
   "cell_type": "code",
   "execution_count": 78,
   "metadata": {},
   "outputs": [
    {
     "name": "stdout",
     "output_type": "stream",
     "text": [
      "1/1 [==============================] - 0s 39ms/step\n",
      "Rekomendasi learning path: Cloud Developer. Tingkat akurasi rekomendasi: 0.9697901010513306.\n"
     ]
    }
   ],
   "source": [
    "predictions = model.predict(np.array([df_test['Experience'].loc[4]]))\n",
    "print(\"Rekomendasi learning path: {}. Tingkat akurasi rekomendasi: {}.\".format(output(predictions), np.max(predictions)))"
   ]
  },
  {
   "cell_type": "markdown",
   "metadata": {},
   "source": [
    "# Memberikan rekomendasi untuk Bangkit Student"
   ]
  },
  {
   "cell_type": "code",
   "execution_count": 79,
   "metadata": {},
   "outputs": [
    {
     "data": {
      "text/html": [
       "<div>\n",
       "<style scoped>\n",
       "    .dataframe tbody tr th:only-of-type {\n",
       "        vertical-align: middle;\n",
       "    }\n",
       "\n",
       "    .dataframe tbody tr th {\n",
       "        vertical-align: top;\n",
       "    }\n",
       "\n",
       "    .dataframe thead th {\n",
       "        text-align: right;\n",
       "    }\n",
       "</style>\n",
       "<table border=\"1\" class=\"dataframe\">\n",
       "  <thead>\n",
       "    <tr style=\"text-align: right;\">\n",
       "      <th></th>\n",
       "      <th>Name</th>\n",
       "      <th>Experience</th>\n",
       "    </tr>\n",
       "  </thead>\n",
       "  <tbody>\n",
       "    <tr>\n",
       "      <th>0</th>\n",
       "      <td>Cantika Belia Ananda Nurjasman</td>\n",
       "      <td>android developer belajar android jetpack pro ...</td>\n",
       "    </tr>\n",
       "    <tr>\n",
       "      <th>1</th>\n",
       "      <td>Aliffiro Naufal</td>\n",
       "      <td>st winner quran app design it musabaqah nd win...</td>\n",
       "    </tr>\n",
       "    <tr>\n",
       "      <th>2</th>\n",
       "      <td>M Daffa Razan</td>\n",
       "      <td>advanced database laboratory assistant android...</td>\n",
       "    </tr>\n",
       "    <tr>\n",
       "      <th>3</th>\n",
       "      <td>Dinda Prameswari</td>\n",
       "      <td>architecting google compute engine specializat...</td>\n",
       "    </tr>\n",
       "    <tr>\n",
       "      <th>4</th>\n",
       "      <td>Daffa Zidane Laduni</td>\n",
       "      <td>achieving advanced insight bigquery applied da...</td>\n",
       "    </tr>\n",
       "    <tr>\n",
       "      <th>5</th>\n",
       "      <td>Muhammad Ilham Hanifan</td>\n",
       "      <td>academy led google tokopedia gojek traveloka c...</td>\n",
       "    </tr>\n",
       "    <tr>\n",
       "      <th>6</th>\n",
       "      <td>Raditya Farel</td>\n",
       "      <td>academy led google tokopedia gojek traveloka d...</td>\n",
       "    </tr>\n",
       "    <tr>\n",
       "      <th>7</th>\n",
       "      <td>Zarek Gema Galgani</td>\n",
       "      <td>artificial intelligence ai academy machine lea...</td>\n",
       "    </tr>\n",
       "    <tr>\n",
       "      <th>8</th>\n",
       "      <td>Nadiya Amanda</td>\n",
       "      <td>algorithm academy led google tokopedia gojek t...</td>\n",
       "    </tr>\n",
       "  </tbody>\n",
       "</table>\n",
       "</div>"
      ],
      "text/plain": [
       "                             Name  \\\n",
       "0  Cantika Belia Ananda Nurjasman   \n",
       "1                 Aliffiro Naufal   \n",
       "2                   M Daffa Razan   \n",
       "3                Dinda Prameswari   \n",
       "4             Daffa Zidane Laduni   \n",
       "5          Muhammad Ilham Hanifan   \n",
       "6                   Raditya Farel   \n",
       "7              Zarek Gema Galgani   \n",
       "8                   Nadiya Amanda   \n",
       "\n",
       "                                          Experience  \n",
       "0  android developer belajar android jetpack pro ...  \n",
       "1  st winner quran app design it musabaqah nd win...  \n",
       "2  advanced database laboratory assistant android...  \n",
       "3  architecting google compute engine specializat...  \n",
       "4  achieving advanced insight bigquery applied da...  \n",
       "5  academy led google tokopedia gojek traveloka c...  \n",
       "6  academy led google tokopedia gojek traveloka d...  \n",
       "7  artificial intelligence ai academy machine lea...  \n",
       "8  algorithm academy led google tokopedia gojek t...  "
      ]
     },
     "execution_count": 79,
     "metadata": {},
     "output_type": "execute_result"
    }
   ],
   "source": [
    "df_test2 = pd.read_csv('/home/moseshubert/Documents/bangkit_project/scraping/selenium/linkedin/profil_test2.csv')\n",
    "df_test2['Experience'] = df_test2['Experience'].apply(text_process).apply(listToString).apply(cleaner)\n",
    "df_test2"
   ]
  },
  {
   "cell_type": "markdown",
   "metadata": {},
   "source": [
    "### Android Developer Student"
   ]
  },
  {
   "cell_type": "code",
   "execution_count": 80,
   "metadata": {},
   "outputs": [
    {
     "name": "stdout",
     "output_type": "stream",
     "text": [
      "1/1 [==============================] - 0s 36ms/step\n",
      "Rekomendasi learning path: Android Developer. Tingkat akurasi rekomendasi: 0.9992469549179077.\n"
     ]
    }
   ],
   "source": [
    "predictions = model.predict(np.array([df_test2['Experience'].loc[0]]))\n",
    "print(\"Rekomendasi learning path: {}. Tingkat akurasi rekomendasi: {}.\".format(output(predictions), np.max(predictions)))"
   ]
  },
  {
   "cell_type": "code",
   "execution_count": 81,
   "metadata": {},
   "outputs": [
    {
     "name": "stdout",
     "output_type": "stream",
     "text": [
      "1/1 [==============================] - 0s 38ms/step\n",
      "Rekomendasi learning path: Android Developer. Tingkat akurasi rekomendasi: 0.9976680874824524.\n"
     ]
    }
   ],
   "source": [
    "predictions = model.predict(np.array([df_test2['Experience'].loc[1]]))\n",
    "print(\"Rekomendasi learning path: {}. Tingkat akurasi rekomendasi: {}.\".format(output(predictions), np.max(predictions)))"
   ]
  },
  {
   "cell_type": "code",
   "execution_count": 82,
   "metadata": {},
   "outputs": [
    {
     "name": "stdout",
     "output_type": "stream",
     "text": [
      "1/1 [==============================] - 0s 37ms/step\n",
      "Rekomendasi learning path: Android Developer. Tingkat akurasi rekomendasi: 0.9513400197029114.\n"
     ]
    }
   ],
   "source": [
    "predictions = model.predict(np.array([df_test2['Experience'].loc[2]]))\n",
    "print(\"Rekomendasi learning path: {}. Tingkat akurasi rekomendasi: {}.\".format(output(predictions), np.max(predictions)))"
   ]
  },
  {
   "cell_type": "markdown",
   "metadata": {},
   "source": [
    "### Cloud Computing Student"
   ]
  },
  {
   "cell_type": "code",
   "execution_count": 83,
   "metadata": {},
   "outputs": [
    {
     "name": "stdout",
     "output_type": "stream",
     "text": [
      "1/1 [==============================] - 0s 33ms/step\n",
      "Rekomendasi learning path: Cloud Developer. Tingkat akurasi rekomendasi: 0.9506009817123413.\n"
     ]
    }
   ],
   "source": [
    "predictions = model.predict(np.array([df_test2['Experience'].loc[3]]))\n",
    "print(\"Rekomendasi learning path: {}. Tingkat akurasi rekomendasi: {}.\".format(output(predictions), np.max(predictions)))"
   ]
  },
  {
   "cell_type": "code",
   "execution_count": 84,
   "metadata": {},
   "outputs": [
    {
     "name": "stdout",
     "output_type": "stream",
     "text": [
      "1/1 [==============================] - 0s 53ms/step\n",
      "Rekomendasi learning path: Cloud Developer. Tingkat akurasi rekomendasi: 0.9930688142776489.\n"
     ]
    }
   ],
   "source": [
    "predictions = model.predict(np.array([df_test2['Experience'].loc[4]]))\n",
    "print(\"Rekomendasi learning path: {}. Tingkat akurasi rekomendasi: {}.\".format(output(predictions), np.max(predictions)))"
   ]
  },
  {
   "cell_type": "code",
   "execution_count": 85,
   "metadata": {},
   "outputs": [
    {
     "name": "stdout",
     "output_type": "stream",
     "text": [
      "1/1 [==============================] - 0s 36ms/step\n",
      "Rekomendasi learning path: Cloud Developer. Tingkat akurasi rekomendasi: 0.9864258766174316.\n"
     ]
    }
   ],
   "source": [
    "predictions = model.predict(np.array([df_test2['Experience'].loc[5]]))\n",
    "print(\"Rekomendasi learning path: {}. Tingkat akurasi rekomendasi: {}.\".format(output(predictions), np.max(predictions)))"
   ]
  },
  {
   "cell_type": "markdown",
   "metadata": {},
   "source": [
    "### Machine Learning Student"
   ]
  },
  {
   "cell_type": "code",
   "execution_count": 86,
   "metadata": {},
   "outputs": [
    {
     "name": "stdout",
     "output_type": "stream",
     "text": [
      "1/1 [==============================] - 0s 34ms/step\n",
      "Rekomendasi learning path: Machine Learning Developer. Tingkat akurasi rekomendasi: 0.9990357160568237.\n"
     ]
    }
   ],
   "source": [
    "predictions = model.predict(np.array([df_test2['Experience'].loc[6]]))\n",
    "print(\"Rekomendasi learning path: {}. Tingkat akurasi rekomendasi: {}.\".format(output(predictions), np.max(predictions)))"
   ]
  },
  {
   "cell_type": "code",
   "execution_count": 87,
   "metadata": {},
   "outputs": [
    {
     "name": "stdout",
     "output_type": "stream",
     "text": [
      "1/1 [==============================] - 0s 30ms/step\n",
      "Rekomendasi learning path: Machine Learning Developer. Tingkat akurasi rekomendasi: 0.9989168643951416.\n"
     ]
    }
   ],
   "source": [
    "predictions = model.predict(np.array([df_test2['Experience'].loc[7]]))\n",
    "print(\"Rekomendasi learning path: {}. Tingkat akurasi rekomendasi: {}.\".format(output(predictions), np.max(predictions)))"
   ]
  },
  {
   "cell_type": "code",
   "execution_count": 88,
   "metadata": {},
   "outputs": [
    {
     "name": "stdout",
     "output_type": "stream",
     "text": [
      "1/1 [==============================] - 0s 38ms/step\n",
      "Rekomendasi learning path: Machine Learning Developer. Tingkat akurasi rekomendasi: 0.9985148310661316.\n"
     ]
    }
   ],
   "source": [
    "predictions = model.predict(np.array([df_test2['Experience'].loc[8]]))\n",
    "print(\"Rekomendasi learning path: {}. Tingkat akurasi rekomendasi: {}.\".format(output(predictions), np.max(predictions)))"
   ]
  },
  {
   "cell_type": "markdown",
   "metadata": {},
   "source": [
    "# Menyimpan model untuk deployment"
   ]
  },
  {
   "cell_type": "code",
   "execution_count": 53,
   "metadata": {},
   "outputs": [
    {
     "name": "stderr",
     "output_type": "stream",
     "text": [
      "Found untraced functions such as lstm_cell_1_layer_call_fn, lstm_cell_1_layer_call_and_return_conditional_losses, lstm_cell_2_layer_call_fn, lstm_cell_2_layer_call_and_return_conditional_losses, lstm_cell_4_layer_call_fn while saving (showing 5 of 8). These functions will not be directly callable after loading.\n"
     ]
    },
    {
     "name": "stdout",
     "output_type": "stream",
     "text": [
      "INFO:tensorflow:Assets written to: /home/moseshubert/Documents/bangkit_project/classification_model/assets\n"
     ]
    },
    {
     "name": "stderr",
     "output_type": "stream",
     "text": [
      "Assets written to: /home/moseshubert/Documents/bangkit_project/classification_model/assets\n"
     ]
    }
   ],
   "source": [
    "# menyimpan model\n",
    "model.save('/home/moseshubert/Documents/bangkit_project/classification_model')"
   ]
  },
  {
   "cell_type": "code",
   "execution_count": 54,
   "metadata": {},
   "outputs": [
    {
     "name": "stdout",
     "output_type": "stream",
     "text": [
      "Model: \"sequential\"\n",
      "_________________________________________________________________\n",
      " Layer (type)                Output Shape              Param #   \n",
      "=================================================================\n",
      " text_vectorization (TextVec  (None, None)             0         \n",
      " torization)                                                     \n",
      "                                                                 \n",
      " embedding (Embedding)       (None, None, 128)         128000    \n",
      "                                                                 \n",
      " bidirectional (Bidirectiona  (None, None, 256)        263168    \n",
      " l)                                                              \n",
      "                                                                 \n",
      " bidirectional_1 (Bidirectio  (None, 128)              164352    \n",
      " nal)                                                            \n",
      "                                                                 \n",
      " dense (Dense)               (None, 128)               16512     \n",
      "                                                                 \n",
      " dropout (Dropout)           (None, 128)               0         \n",
      "                                                                 \n",
      " dense_1 (Dense)             (None, 3)                 387       \n",
      "                                                                 \n",
      "=================================================================\n",
      "Total params: 572,419\n",
      "Trainable params: 572,419\n",
      "Non-trainable params: 0\n",
      "_________________________________________________________________\n"
     ]
    }
   ],
   "source": [
    "# melakukan load model\n",
    "new_model = tf.keras.models.load_model('/home/moseshubert/Documents/bangkit_project/classification_model')\n",
    "\n",
    "# check its architecture\n",
    "new_model.summary()"
   ]
  }
 ],
 "metadata": {
  "interpreter": {
   "hash": "916dbcbb3f70747c44a77c7bcd40155683ae19c65e1c03b4aa3499c5328201f1"
  },
  "kernelspec": {
   "display_name": "Python 3.8.10 64-bit",
   "language": "python",
   "name": "python3"
  },
  "language_info": {
   "codemirror_mode": {
    "name": "ipython",
    "version": 3
   },
   "file_extension": ".py",
   "mimetype": "text/x-python",
   "name": "python",
   "nbconvert_exporter": "python",
   "pygments_lexer": "ipython3",
   "version": "3.8.10"
  },
  "orig_nbformat": 4
 },
 "nbformat": 4,
 "nbformat_minor": 2
}
